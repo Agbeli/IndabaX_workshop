{
 "cells": [
  {
   "cell_type": "markdown",
   "metadata": {},
   "source": [
    "<h1> <center> SUPERVISED LEARNING </center> </h1>\n",
    "\n",
    "- The main objective of this tutorials is to introduce learners to the fundamental concept of supervised machine learning. This is one of the types of machine learning which has gained a lot traction when it comes to real-life applications. \n",
    "\n",
    "- The various types of supervised learning problems. This is to understand the various areas when one can apply supervised learning approach to real-life scenario. \n",
    "\n",
    "- Various algorithms under supervised learning \n",
    "\n",
    "- Open-sourced tools to use and use cases.\n",
    "\n",
    "\n",
    "------"
   ]
  },
  {
   "cell_type": "markdown",
   "metadata": {},
   "source": [
    "### Definition \n",
    "\n",
    "- Supervised learning is a subcategory of machine learning that uses labelled datasets to train an algorithm to classify a category of output or to predict a continuous outcome(regression). The labelled dataset serve as a guide for the algorithm to learning underlying patterns within the datasets. \n",
    "\n",
    "$$h : x \\rightarrow y $$\n",
    "\n",
    "where $h$ represents the an approximate or hypothetical function that model the relationship between the input $x$ and output $y$. The $x$ and $y$ represents the input-output pairs of the datasets. \n",
    "\n",
    "We can formalize this supervised machine learning as follows: \n",
    "\n",
    "Our training pairs is defined by $(x,y)$ where $x \\in \\mathcal{R}^{d}$ is the instance input and $y$ is the response of the input $x$. We can formulate the training set as: \n",
    "\n",
    "$$\\{(x_{1},y_{1}),(x_{2},y_{2}),(x_{3},y_{3}),\\cdots,(x_{n},y_{n})\\} \\subseteq \\mathcal{R}^{D} \\times \\mathcal{C}$$\n",
    "\n",
    "where : \n",
    "\n",
    "- $\\mathcal{R}^{D}$ is the D-dimensional feature space \n",
    "\n",
    "- $x_{i}$ is the input vector of the $i^{th}$ space \n",
    "\n",
    "- $y_{i}$ is the target of the $i^{th}$ sample. \n",
    "\n",
    "- $C$ is the target space.\n",
    "\n",
    "It is assume that the $(x_{i},y_{i})$ follows an unknown distribution $\\mathcal{P}(X,Y)$. The end goal is to learn a hypothetical function $h$ such that any new pairs folow $(x_{i},y_{i}) \\sim \\mathcal{P}$. we have $h(x)=y$ with a high probability. "
   ]
  },
  {
   "cell_type": "markdown",
   "metadata": {},
   "source": [
    "#### Various types of SL problems:\n",
    "\n",
    "#### Regression Problem:\n",
    "\n",
    "This is to predict continuous output from a given input vector $x$. The essence of the regression scenario is to predict the continuous values of the target variable. For instance: predicting house prices and price of art piece. Regression involves the linear combination of the input variables $x$\n",
    "\n",
    "\\begin{eqnarray}\n",
    "h(x) = Wx + \\epsilon\n",
    "\\end{eqnarray}\n",
    "\n",
    "\\begin{eqnarray}\n",
    "y(w,x) = w_{0} + w_{1}x_{1} + w_{2}x_{2} + \\cdots + w_{D}x_{D} + \\epsilon\n",
    "\\end{eqnarray}\n",
    "\n",
    "\n",
    "where $h(x) = y$, $y \\in \\mathbb{R} = \\mathcal{C}$\n",
    "\n",
    "$(x_{1},x_{2},x_{3},\\cdots,x_{D})$ as the input variables such as structure or images, texts\n",
    "\n",
    "$\\epsilon \\sim \\mathcal{N}(0,\\sigma^{2})$\n",
    "\n",
    "$W$ is the weights of the model used in fitting the model. \n",
    "\n",
    "$\\epsilon$ is the noise terms in the model. Captures scenarios that are not model. "
   ]
  },
  {
   "cell_type": "markdown",
   "metadata": {},
   "source": [
    "From the previous equations, there is a significant limitation on the model when we model try to model directly on $x$. So there is the need to transform the input $x$ into fixed nonlinear functions.\n",
    "\n",
    "\\begin{eqnarray}\n",
    "y(w,x) = w_{0} + \\sum_{i = 1}^{M - 1}w_{i} \\phi_{i}(x) + \\epsilon\n",
    "\\end{eqnarray}\n",
    "\n",
    "where $\\phi_{i}(x)$ is known as basis function. $M$ is the total number of parameters with a bias term $w_{0}$. We could rewrite the equation as:\n",
    "\n",
    "\\begin{eqnarray}\n",
    "y(w,x) = \\sum_{i = 0}^{M - 1}w_{i} \\phi_{i}(x) + \\epsilon\n",
    "\\end{eqnarray}\n",
    "\n",
    "where $w = (w_{0},w_{1},\\cdots,w_{M-1})^{T}$ and $\\phi = (\\phi_{0},\\phi_{1},\\phi_{2},\\cdots,\\phi_{M-1})^{T}$ as the basis functions. In most practical work, we apply some of preprocessing techniques to the input features to extract meaningful feature representation for the input. \n",
    "\n",
    "#### Estimation of the parameters: \n",
    "\n",
    "- Maximum Likelihood Estimation(MLE) \n",
    "\n",
    "$$ w_{ML} = (\\phi(x)^{T}\\phi(x))^{-1}\\phi(x)^{T}y$$\n",
    "- Maximum Aposterior Estimation (MAPE) \n",
    "\n",
    "$$w_{MAPE} = (\\phi(x)^{T}\\phi(x) + \\mathcal{I}\\lambda)^{-1}\\phi(x)^{T}y$$\n",
    "\n",
    "\n",
    "#### We can derive the two if you are interested.......\n",
    "\n",
    "There are two typical steps involve in learning the hypothesis $h()$:\n",
    "\n",
    "- First we define a machine learning algorith that is plausible to learn the given problem. Set possible $\\mathcal{H}$ hypothesis that can learn data. \n",
    "\n",
    "- Second step is to find the best function that is within the class of hypothesis $h \\in \\mathcal{H}$.This stage involve an optimization problem and where the actual learning takes place. \n",
    "\n",
    "#### Loss measurement:\n",
    "\n",
    "- Mean squared error (MSE)\n",
    "$$\\mathcal{L}_{sq}(h) = \\dfrac{1}{n}\\sum_{i=1}^{n}(h(x_{i}) - y_{i})^{2}$$\n",
    "- Mean absolute error (MAE)\n",
    "$$\\mathcal{L}_{abs}(h) = \\dfrac{1}{n}\\sum_{i=1}^{n}|h(x_{i}) - y_{i}|$$\n"
   ]
  },
  {
   "cell_type": "markdown",
   "metadata": {},
   "source": [
    "#### Classification problem:\n",
    "\n",
    "This is to develop an algorithm that accurately assign an input $x$ to a given category $y$ $\\in$ $\\{1,\\cdots,K\\}$. The goal of this task is to take input vector $x$ and assign it one of the $K$ discrete class $C_{k}$ where $k = 1, \\cdots, K$. The classes are mutually exclusive so therefore the model predict only one class at a time. The input space is divided into decision regions whose boundaries are called decision boundaries or decision surfaces. Data sets whose classes can be separated exactly by linear decision surfaces are said to be linearly separable. \n",
    "\n",
    "- Construct a discriminant function that directly assigns each vector $x$ to a specific class. Effective approach, however, models the conditional probability distribution $p(\\mathcal{C}_{k}|x)$ in an inference stage, and then subsequently uses this distribution to make optimal decisions. \n",
    "\n",
    "- Determine $p(\\mathcal{C}_{k}|x)$:\n",
    "    - model it directly, for example by representing them as parametric models and then optimizing the parameters using a training set. \n",
    "    - Generative approach in which model the class-conditional densities given by $p(\\mathcal{C}_{k}|x)$, together with the prior probabilities $p(\\mathcal{C}_{k})$ for the classes and then we compute the required posterior probabilities using Bayes theorem: \n",
    "    $$p(\\mathcal{C}_{k}|x) = \\dfrac{p(x|\\mathcal{C}_{k})p(\\mathcal{C}_{k})}{p(x)}$$\n",
    "    \n",
    " In classification, our desire is to predict the discrete classes. For the probabilities of the posterior $p(\\mathcal{C}_{k}|x)$ lie within the range of $(0,1)$. In general terms, we have to transform the linear function of $w$ using a nonlinear function $f(.)$.\n",
    " \n",
    " $$p(\\mathcal{C}_{k}|\\phi(x))  = f(w^{T}\\phi(x))$$\n",
    " \n",
    " Where we term the $f(.)$ as the activation function. \n",
    " \n",
    "#### Loss Measurement:\n",
    "- Binary Cross Entropy loss:\n",
    "$$\\mathcal{L}(h(x),y) = \\dfrac{1}{n}\\sum_{i=1}^{n}-y_{i}\\log(h(x_{i})) - (1-y_{i})\\log(1-h(x_{i}))$$\n",
    "\n",
    "- Hinge Loss: \n",
    "Primarily develop for support vector machine with class labels $[-1,1]$\n",
    "$$\\mathcal{L}(h(x),y) = \\max(0,1-y*h(x)) $$\n",
    "\n",
    "- Cross-entropy loss: \n",
    "\n",
    "This is a generalization of binary loss for multi-class classification scenario. \n",
    "\n",
    "$$\\mathcal{L}(h(x),y) = -\\sum_{i=1}^{n}\\sum_{j=1}^{K} y_{ij}\\log(h(x_{i,j}))$$"
   ]
  },
  {
   "cell_type": "markdown",
   "metadata": {},
   "source": [
    "#### Practical Session: Supervised Models \n",
    "\n",
    "- At this stage, we will perform some few use of the supervised model using open-sourced libraries. \n",
    "    - Regression\n",
    "        - Linear Regression. \n",
    "        - Neural Nets\n",
    "        - Ridge \n",
    "        - Lasso \n",
    "    - Classification\n",
    "        - Logistic Regression\n",
    "        - Ensemble: Random Forest, SGBoosting, GradientBoosting\n",
    "        - Naive bayes \n",
    "        - Decision Tree\n",
    "        - Neural Nets or single neuron(perceptron)\n",
    "        - Neighbours methods \n",
    "        \n",
    "        \n",
    "- Machine learning Pipeline:\n",
    " \n",
    "   Data Gathering  $\\longrightarrow$ Data Analysis $\\longrightarrow$ Feature Engineering $\\longrightarrow$ Feature selection $\\longrightarrow$ ML Model builing $\\longrightarrow$ Model Evaluaion $\\longrightarrow$ Model Deployment.\n",
    "   \n",
    "- This process can be represented in directed acyclic graph. where we can repeat some operation over again.  "
   ]
  },
  {
   "cell_type": "code",
   "execution_count": 1,
   "metadata": {},
   "outputs": [],
   "source": [
    "import numpy as np \n",
    "import pandas as pd \n",
    "import sklearn as sk\n",
    "import matplotlib \n",
    "from matplotlib import pyplot as plt \n",
    "from sklearn.datasets import fetch_california_housing\n",
    "from sklearn.datasets import load_breast_cancer\n",
    "from sklearn.preprocessing import StandardScaler,MinMaxScaler,LabelEncoder,OneHotEncoder\n",
    "from sklearn.model_selection import train_test_split,GridSearchCV,RandomizedSearchCV,cross_val_score\n",
    "from sklearn.pipeline import Pipeline\n",
    "from sklearn.linear_model import LinearRegression,LogisticRegression,Ridge,Lasso\n",
    "from sklearn.svm import SVC,SVR\n",
    "from sklearn.tree import DecisionTreeClassifier,DecisionTreeRegressor\n",
    "from sklearn.naive_bayes import BernoulliNB,CategoricalNB,MultinomialNB\n",
    "from sklearn.neural_network import MLPRegressor,MLPClassifier\n",
    "from sklearn.ensemble import RandomForestClassifier,RandomForestRegressor,GradientBoostingClassifier\n",
    "from sklearn.metrics import accuracy_score,mean_absolute_error,mean_squared_error,confusion_matrix,classification_report,plot_confusion_matrix"
   ]
  },
  {
   "cell_type": "markdown",
   "metadata": {},
   "source": [
    "###  Regression Modelling "
   ]
  },
  {
   "cell_type": "code",
   "execution_count": 2,
   "metadata": {},
   "outputs": [],
   "source": [
    "#### use an in-built datasets for practice. \n",
    "housing_data = fetch_california_housing()"
   ]
  },
  {
   "cell_type": "code",
   "execution_count": 4,
   "metadata": {},
   "outputs": [],
   "source": [
    "#### extract the features required to perform the analysis: \n",
    "raw_data = housing_data[\"data\"]\n",
    "target = housing_data[\"target\"]\n",
    "target_name = housing_data[\"target_names\"]\n",
    "feature_names = housing_data[\"feature_names\"]"
   ]
  },
  {
   "cell_type": "code",
   "execution_count": 7,
   "metadata": {},
   "outputs": [
    {
     "data": {
      "text/plain": [
       "((20640, 8), (20640,))"
      ]
     },
     "execution_count": 7,
     "metadata": {},
     "output_type": "execute_result"
    }
   ],
   "source": [
    "raw_data.shape,target.shape"
   ]
  },
  {
   "cell_type": "code",
   "execution_count": 13,
   "metadata": {},
   "outputs": [],
   "source": [
    "##### create a dataframe for the extracted: \n",
    "datasets_housing = pd.DataFrame(raw_data,columns=feature_names)\n",
    "datasets_housing[\"MedHouseVal\"] = target"
   ]
  },
  {
   "cell_type": "code",
   "execution_count": 14,
   "metadata": {},
   "outputs": [
    {
     "data": {
      "text/html": [
       "<div>\n",
       "<style scoped>\n",
       "    .dataframe tbody tr th:only-of-type {\n",
       "        vertical-align: middle;\n",
       "    }\n",
       "\n",
       "    .dataframe tbody tr th {\n",
       "        vertical-align: top;\n",
       "    }\n",
       "\n",
       "    .dataframe thead th {\n",
       "        text-align: right;\n",
       "    }\n",
       "</style>\n",
       "<table border=\"1\" class=\"dataframe\">\n",
       "  <thead>\n",
       "    <tr style=\"text-align: right;\">\n",
       "      <th></th>\n",
       "      <th>MedInc</th>\n",
       "      <th>HouseAge</th>\n",
       "      <th>AveRooms</th>\n",
       "      <th>AveBedrms</th>\n",
       "      <th>Population</th>\n",
       "      <th>AveOccup</th>\n",
       "      <th>Latitude</th>\n",
       "      <th>Longitude</th>\n",
       "      <th>MedHouseVal</th>\n",
       "    </tr>\n",
       "  </thead>\n",
       "  <tbody>\n",
       "    <tr>\n",
       "      <th>0</th>\n",
       "      <td>8.3252</td>\n",
       "      <td>41.0</td>\n",
       "      <td>6.984127</td>\n",
       "      <td>1.023810</td>\n",
       "      <td>322.0</td>\n",
       "      <td>2.555556</td>\n",
       "      <td>37.88</td>\n",
       "      <td>-122.23</td>\n",
       "      <td>4.526</td>\n",
       "    </tr>\n",
       "    <tr>\n",
       "      <th>1</th>\n",
       "      <td>8.3014</td>\n",
       "      <td>21.0</td>\n",
       "      <td>6.238137</td>\n",
       "      <td>0.971880</td>\n",
       "      <td>2401.0</td>\n",
       "      <td>2.109842</td>\n",
       "      <td>37.86</td>\n",
       "      <td>-122.22</td>\n",
       "      <td>3.585</td>\n",
       "    </tr>\n",
       "    <tr>\n",
       "      <th>2</th>\n",
       "      <td>7.2574</td>\n",
       "      <td>52.0</td>\n",
       "      <td>8.288136</td>\n",
       "      <td>1.073446</td>\n",
       "      <td>496.0</td>\n",
       "      <td>2.802260</td>\n",
       "      <td>37.85</td>\n",
       "      <td>-122.24</td>\n",
       "      <td>3.521</td>\n",
       "    </tr>\n",
       "    <tr>\n",
       "      <th>3</th>\n",
       "      <td>5.6431</td>\n",
       "      <td>52.0</td>\n",
       "      <td>5.817352</td>\n",
       "      <td>1.073059</td>\n",
       "      <td>558.0</td>\n",
       "      <td>2.547945</td>\n",
       "      <td>37.85</td>\n",
       "      <td>-122.25</td>\n",
       "      <td>3.413</td>\n",
       "    </tr>\n",
       "    <tr>\n",
       "      <th>4</th>\n",
       "      <td>3.8462</td>\n",
       "      <td>52.0</td>\n",
       "      <td>6.281853</td>\n",
       "      <td>1.081081</td>\n",
       "      <td>565.0</td>\n",
       "      <td>2.181467</td>\n",
       "      <td>37.85</td>\n",
       "      <td>-122.25</td>\n",
       "      <td>3.422</td>\n",
       "    </tr>\n",
       "    <tr>\n",
       "      <th>5</th>\n",
       "      <td>4.0368</td>\n",
       "      <td>52.0</td>\n",
       "      <td>4.761658</td>\n",
       "      <td>1.103627</td>\n",
       "      <td>413.0</td>\n",
       "      <td>2.139896</td>\n",
       "      <td>37.85</td>\n",
       "      <td>-122.25</td>\n",
       "      <td>2.697</td>\n",
       "    </tr>\n",
       "    <tr>\n",
       "      <th>6</th>\n",
       "      <td>3.6591</td>\n",
       "      <td>52.0</td>\n",
       "      <td>4.931907</td>\n",
       "      <td>0.951362</td>\n",
       "      <td>1094.0</td>\n",
       "      <td>2.128405</td>\n",
       "      <td>37.84</td>\n",
       "      <td>-122.25</td>\n",
       "      <td>2.992</td>\n",
       "    </tr>\n",
       "    <tr>\n",
       "      <th>7</th>\n",
       "      <td>3.1200</td>\n",
       "      <td>52.0</td>\n",
       "      <td>4.797527</td>\n",
       "      <td>1.061824</td>\n",
       "      <td>1157.0</td>\n",
       "      <td>1.788253</td>\n",
       "      <td>37.84</td>\n",
       "      <td>-122.25</td>\n",
       "      <td>2.414</td>\n",
       "    </tr>\n",
       "    <tr>\n",
       "      <th>8</th>\n",
       "      <td>2.0804</td>\n",
       "      <td>42.0</td>\n",
       "      <td>4.294118</td>\n",
       "      <td>1.117647</td>\n",
       "      <td>1206.0</td>\n",
       "      <td>2.026891</td>\n",
       "      <td>37.84</td>\n",
       "      <td>-122.26</td>\n",
       "      <td>2.267</td>\n",
       "    </tr>\n",
       "    <tr>\n",
       "      <th>9</th>\n",
       "      <td>3.6912</td>\n",
       "      <td>52.0</td>\n",
       "      <td>4.970588</td>\n",
       "      <td>0.990196</td>\n",
       "      <td>1551.0</td>\n",
       "      <td>2.172269</td>\n",
       "      <td>37.84</td>\n",
       "      <td>-122.25</td>\n",
       "      <td>2.611</td>\n",
       "    </tr>\n",
       "  </tbody>\n",
       "</table>\n",
       "</div>"
      ],
      "text/plain": [
       "   MedInc  HouseAge  AveRooms  AveBedrms  Population  AveOccup  Latitude  \\\n",
       "0  8.3252      41.0  6.984127   1.023810       322.0  2.555556     37.88   \n",
       "1  8.3014      21.0  6.238137   0.971880      2401.0  2.109842     37.86   \n",
       "2  7.2574      52.0  8.288136   1.073446       496.0  2.802260     37.85   \n",
       "3  5.6431      52.0  5.817352   1.073059       558.0  2.547945     37.85   \n",
       "4  3.8462      52.0  6.281853   1.081081       565.0  2.181467     37.85   \n",
       "5  4.0368      52.0  4.761658   1.103627       413.0  2.139896     37.85   \n",
       "6  3.6591      52.0  4.931907   0.951362      1094.0  2.128405     37.84   \n",
       "7  3.1200      52.0  4.797527   1.061824      1157.0  1.788253     37.84   \n",
       "8  2.0804      42.0  4.294118   1.117647      1206.0  2.026891     37.84   \n",
       "9  3.6912      52.0  4.970588   0.990196      1551.0  2.172269     37.84   \n",
       "\n",
       "   Longitude  MedHouseVal  \n",
       "0    -122.23        4.526  \n",
       "1    -122.22        3.585  \n",
       "2    -122.24        3.521  \n",
       "3    -122.25        3.413  \n",
       "4    -122.25        3.422  \n",
       "5    -122.25        2.697  \n",
       "6    -122.25        2.992  \n",
       "7    -122.25        2.414  \n",
       "8    -122.26        2.267  \n",
       "9    -122.25        2.611  "
      ]
     },
     "execution_count": 14,
     "metadata": {},
     "output_type": "execute_result"
    }
   ],
   "source": [
    "##### check for the first 10 rows of the datasets: \n",
    "datasets_housing.head(10)"
   ]
  },
  {
   "cell_type": "markdown",
   "metadata": {},
   "source": [
    "#### Data Exploration "
   ]
  },
  {
   "cell_type": "code",
   "execution_count": 15,
   "metadata": {},
   "outputs": [
    {
     "data": {
      "text/plain": [
       "MedInc         0\n",
       "HouseAge       0\n",
       "AveRooms       0\n",
       "AveBedrms      0\n",
       "Population     0\n",
       "AveOccup       0\n",
       "Latitude       0\n",
       "Longitude      0\n",
       "MedHouseVal    0\n",
       "dtype: int64"
      ]
     },
     "execution_count": 15,
     "metadata": {},
     "output_type": "execute_result"
    }
   ],
   "source": [
    "#### check for missing values in the datasets: \n",
    "datasets_housing.isnull().sum()"
   ]
  },
  {
   "cell_type": "code",
   "execution_count": 16,
   "metadata": {},
   "outputs": [
    {
     "name": "stdout",
     "output_type": "stream",
     "text": [
      "<class 'pandas.core.frame.DataFrame'>\n",
      "RangeIndex: 20640 entries, 0 to 20639\n",
      "Data columns (total 9 columns):\n",
      " #   Column       Non-Null Count  Dtype  \n",
      "---  ------       --------------  -----  \n",
      " 0   MedInc       20640 non-null  float64\n",
      " 1   HouseAge     20640 non-null  float64\n",
      " 2   AveRooms     20640 non-null  float64\n",
      " 3   AveBedrms    20640 non-null  float64\n",
      " 4   Population   20640 non-null  float64\n",
      " 5   AveOccup     20640 non-null  float64\n",
      " 6   Latitude     20640 non-null  float64\n",
      " 7   Longitude    20640 non-null  float64\n",
      " 8   MedHouseVal  20640 non-null  float64\n",
      "dtypes: float64(9)\n",
      "memory usage: 1.4 MB\n"
     ]
    }
   ],
   "source": [
    "#### understand the features of the datasets: \n",
    "datasets_housing.info()"
   ]
  },
  {
   "cell_type": "code",
   "execution_count": 58,
   "metadata": {},
   "outputs": [
    {
     "data": {
      "text/html": [
       "<div>\n",
       "<style scoped>\n",
       "    .dataframe tbody tr th:only-of-type {\n",
       "        vertical-align: middle;\n",
       "    }\n",
       "\n",
       "    .dataframe tbody tr th {\n",
       "        vertical-align: top;\n",
       "    }\n",
       "\n",
       "    .dataframe thead th {\n",
       "        text-align: right;\n",
       "    }\n",
       "</style>\n",
       "<table border=\"1\" class=\"dataframe\">\n",
       "  <thead>\n",
       "    <tr style=\"text-align: right;\">\n",
       "      <th></th>\n",
       "      <th>MedInc</th>\n",
       "      <th>HouseAge</th>\n",
       "      <th>AveRooms</th>\n",
       "      <th>AveBedrms</th>\n",
       "      <th>Population</th>\n",
       "      <th>AveOccup</th>\n",
       "      <th>Latitude</th>\n",
       "      <th>Longitude</th>\n",
       "      <th>MedHouseVal</th>\n",
       "    </tr>\n",
       "  </thead>\n",
       "  <tbody>\n",
       "    <tr>\n",
       "      <th>count</th>\n",
       "      <td>20640.000</td>\n",
       "      <td>20640.000</td>\n",
       "      <td>20640.000</td>\n",
       "      <td>20640.000</td>\n",
       "      <td>20640.000</td>\n",
       "      <td>20640.000</td>\n",
       "      <td>20640.000</td>\n",
       "      <td>20640.000</td>\n",
       "      <td>20640.000</td>\n",
       "    </tr>\n",
       "    <tr>\n",
       "      <th>mean</th>\n",
       "      <td>3.871</td>\n",
       "      <td>28.639</td>\n",
       "      <td>5.429</td>\n",
       "      <td>1.097</td>\n",
       "      <td>1425.477</td>\n",
       "      <td>3.071</td>\n",
       "      <td>35.632</td>\n",
       "      <td>-119.570</td>\n",
       "      <td>2.069</td>\n",
       "    </tr>\n",
       "    <tr>\n",
       "      <th>std</th>\n",
       "      <td>1.900</td>\n",
       "      <td>12.586</td>\n",
       "      <td>2.474</td>\n",
       "      <td>0.474</td>\n",
       "      <td>1132.462</td>\n",
       "      <td>10.386</td>\n",
       "      <td>2.136</td>\n",
       "      <td>2.004</td>\n",
       "      <td>1.154</td>\n",
       "    </tr>\n",
       "    <tr>\n",
       "      <th>min</th>\n",
       "      <td>0.500</td>\n",
       "      <td>1.000</td>\n",
       "      <td>0.846</td>\n",
       "      <td>0.333</td>\n",
       "      <td>3.000</td>\n",
       "      <td>0.692</td>\n",
       "      <td>32.540</td>\n",
       "      <td>-124.350</td>\n",
       "      <td>0.150</td>\n",
       "    </tr>\n",
       "    <tr>\n",
       "      <th>25%</th>\n",
       "      <td>2.563</td>\n",
       "      <td>18.000</td>\n",
       "      <td>4.441</td>\n",
       "      <td>1.006</td>\n",
       "      <td>787.000</td>\n",
       "      <td>2.430</td>\n",
       "      <td>33.930</td>\n",
       "      <td>-121.800</td>\n",
       "      <td>1.196</td>\n",
       "    </tr>\n",
       "    <tr>\n",
       "      <th>50%</th>\n",
       "      <td>3.535</td>\n",
       "      <td>29.000</td>\n",
       "      <td>5.229</td>\n",
       "      <td>1.049</td>\n",
       "      <td>1166.000</td>\n",
       "      <td>2.818</td>\n",
       "      <td>34.260</td>\n",
       "      <td>-118.490</td>\n",
       "      <td>1.797</td>\n",
       "    </tr>\n",
       "    <tr>\n",
       "      <th>75%</th>\n",
       "      <td>4.743</td>\n",
       "      <td>37.000</td>\n",
       "      <td>6.052</td>\n",
       "      <td>1.100</td>\n",
       "      <td>1725.000</td>\n",
       "      <td>3.282</td>\n",
       "      <td>37.710</td>\n",
       "      <td>-118.010</td>\n",
       "      <td>2.647</td>\n",
       "    </tr>\n",
       "    <tr>\n",
       "      <th>max</th>\n",
       "      <td>15.000</td>\n",
       "      <td>52.000</td>\n",
       "      <td>141.909</td>\n",
       "      <td>34.067</td>\n",
       "      <td>35682.000</td>\n",
       "      <td>1243.333</td>\n",
       "      <td>41.950</td>\n",
       "      <td>-114.310</td>\n",
       "      <td>5.000</td>\n",
       "    </tr>\n",
       "  </tbody>\n",
       "</table>\n",
       "</div>"
      ],
      "text/plain": [
       "          MedInc   HouseAge   AveRooms  AveBedrms  Population   AveOccup  \\\n",
       "count  20640.000  20640.000  20640.000  20640.000   20640.000  20640.000   \n",
       "mean       3.871     28.639      5.429      1.097    1425.477      3.071   \n",
       "std        1.900     12.586      2.474      0.474    1132.462     10.386   \n",
       "min        0.500      1.000      0.846      0.333       3.000      0.692   \n",
       "25%        2.563     18.000      4.441      1.006     787.000      2.430   \n",
       "50%        3.535     29.000      5.229      1.049    1166.000      2.818   \n",
       "75%        4.743     37.000      6.052      1.100    1725.000      3.282   \n",
       "max       15.000     52.000    141.909     34.067   35682.000   1243.333   \n",
       "\n",
       "        Latitude  Longitude  MedHouseVal  \n",
       "count  20640.000  20640.000    20640.000  \n",
       "mean      35.632   -119.570        2.069  \n",
       "std        2.136      2.004        1.154  \n",
       "min       32.540   -124.350        0.150  \n",
       "25%       33.930   -121.800        1.196  \n",
       "50%       34.260   -118.490        1.797  \n",
       "75%       37.710   -118.010        2.647  \n",
       "max       41.950   -114.310        5.000  "
      ]
     },
     "execution_count": 58,
     "metadata": {},
     "output_type": "execute_result"
    }
   ],
   "source": [
    "##### statistical characteristics of the features:\n",
    "np.round(datasets_housing.describe(),3)"
   ]
  },
  {
   "cell_type": "code",
   "execution_count": 19,
   "metadata": {},
   "outputs": [],
   "source": [
    "###### set the correlation within features \n",
    "df_all_corr = datasets_housing.drop([\"MedHouseVal\"],axis=1).corr().abs().unstack().sort_values(kind=\"quicksort\", ascending=False).reset_index()\n",
    "df_all_corr.rename(columns={\"level_0\": \"Feature 1\", \"level_1\": \"Feature 2\", 0: 'Correlation Coefficient'}, inplace=True)"
   ]
  },
  {
   "cell_type": "code",
   "execution_count": 35,
   "metadata": {},
   "outputs": [
    {
     "data": {
      "text/html": [
       "<div>\n",
       "<style scoped>\n",
       "    .dataframe tbody tr th:only-of-type {\n",
       "        vertical-align: middle;\n",
       "    }\n",
       "\n",
       "    .dataframe tbody tr th {\n",
       "        vertical-align: top;\n",
       "    }\n",
       "\n",
       "    .dataframe thead th {\n",
       "        text-align: right;\n",
       "    }\n",
       "</style>\n",
       "<table border=\"1\" class=\"dataframe\">\n",
       "  <thead>\n",
       "    <tr style=\"text-align: right;\">\n",
       "      <th></th>\n",
       "      <th>Feature 1</th>\n",
       "      <th>Feature 2</th>\n",
       "      <th>Correlation Coefficient</th>\n",
       "    </tr>\n",
       "  </thead>\n",
       "  <tbody>\n",
       "    <tr>\n",
       "      <th>25</th>\n",
       "      <td>Latitude</td>\n",
       "      <td>AveRooms</td>\n",
       "      <td>0.106389</td>\n",
       "    </tr>\n",
       "    <tr>\n",
       "      <th>24</th>\n",
       "      <td>AveRooms</td>\n",
       "      <td>Latitude</td>\n",
       "      <td>0.106389</td>\n",
       "    </tr>\n",
       "    <tr>\n",
       "      <th>23</th>\n",
       "      <td>HouseAge</td>\n",
       "      <td>Longitude</td>\n",
       "      <td>0.108197</td>\n",
       "    </tr>\n",
       "    <tr>\n",
       "      <th>22</th>\n",
       "      <td>Longitude</td>\n",
       "      <td>HouseAge</td>\n",
       "      <td>0.108197</td>\n",
       "    </tr>\n",
       "    <tr>\n",
       "      <th>21</th>\n",
       "      <td>Latitude</td>\n",
       "      <td>Population</td>\n",
       "      <td>0.108785</td>\n",
       "    </tr>\n",
       "  </tbody>\n",
       "</table>\n",
       "</div>"
      ],
      "text/plain": [
       "    Feature 1   Feature 2  Correlation Coefficient\n",
       "25   Latitude    AveRooms                 0.106389\n",
       "24   AveRooms    Latitude                 0.106389\n",
       "23   HouseAge   Longitude                 0.108197\n",
       "22  Longitude    HouseAge                 0.108197\n",
       "21   Latitude  Population                 0.108785"
      ]
     },
     "execution_count": 35,
     "metadata": {},
     "output_type": "execute_result"
    }
   ],
   "source": [
    "##### pairwise correlations \n",
    "df_all_corr[(df_all_corr[\"Correlation Coefficient\"] >= 0.1)][::-1].head()"
   ]
  },
  {
   "cell_type": "code",
   "execution_count": 156,
   "metadata": {},
   "outputs": [
    {
     "data": {
      "image/png": "[encoded data removed]",
      "text/plain": [
       "<Figure size 720x504 with 2 Axes>"
      ]
     },
     "metadata": {},
     "output_type": "display_data"
    }
   ],
   "source": [
    "##### visualize the feature correlations \n",
    "import seaborn as sns \n",
    "sns.set_style(\"darkgrid\")\n",
    "fig, axs = plt.subplots(nrows=1, figsize=(10, 7))\n",
    "sns.heatmap(datasets_housing.drop(['MedHouseVal'], axis=1).corr(), ax=axs, annot=True, square=True, cmap='coolwarm', annot_kws={'size': 14})\n",
    "axs.set_title(\"Correlation within features\",size=15)\n",
    "axs.tick_params(axis='x', labelsize=14,rotation=45)\n",
    "axs.tick_params(axis='y', labelsize=14,rotation=45)\n",
    "plt.show()"
   ]
  },
  {
   "cell_type": "code",
   "execution_count": 64,
   "metadata": {},
   "outputs": [
    {
     "data": {
      "text/plain": [
       "Index(['MedInc', 'HouseAge', 'AveRooms', 'AveBedrms', 'Population', 'AveOccup',\n",
       "       'Latitude', 'Longitude', 'MedHouseVal'],\n",
       "      dtype='object')"
      ]
     },
     "execution_count": 64,
     "metadata": {},
     "output_type": "execute_result"
    }
   ],
   "source": [
    "datasets_housing.columns"
   ]
  },
  {
   "cell_type": "code",
   "execution_count": 152,
   "metadata": {},
   "outputs": [
    {
     "data": {
      "text/plain": [
       "Text(0, 0.5, 'Distribution')"
      ]
     },
     "execution_count": 152,
     "metadata": {},
     "output_type": "execute_result"
    },
    {
     "data": {
      "image/png": "[encoded data removed]",
      "text/plain": [
       "<Figure size 648x432 with 2 Axes>"
      ]
     },
     "metadata": {},
     "output_type": "display_data"
    }
   ],
   "source": [
    "##### visualize the distribution of the features \n",
    "fig, axs = plt.subplots(ncols=2, nrows=1, figsize=(9, 6))\n",
    "plt.subplots_adjust(right=1.5)\n",
    "sns.histplot(datasets_housing[\"Population\"], color='#e74c3c', ax=axs[0])\n",
    "axs[0].set_title(\"Population\",size=15)\n",
    "axs[0].set_ylabel(\"Distribution\")\n",
    "sns.histplot(datasets_housing[\"HouseAge\"], color='#e74c3c', ax=axs[1])\n",
    "axs[1].set_title(\"House Age\",size=15)\n",
    "axs[1].set_ylabel(\"Distribution\")"
   ]
  },
  {
   "cell_type": "code",
   "execution_count": 153,
   "metadata": {},
   "outputs": [
    {
     "data": {
      "image/png": "[encoded data removed]",
      "text/plain": [
       "<Figure size 648x432 with 2 Axes>"
      ]
     },
     "metadata": {},
     "output_type": "display_data"
    }
   ],
   "source": [
    "fig, axs = plt.subplots(ncols=2, nrows=1, figsize=(9, 6))\n",
    "plt.subplots_adjust(right=1.5)\n",
    "sns.boxplot(data=datasets_housing[\"Population\"], color='#e74c3c', ax=axs[0])\n",
    "axs[0].set_xlabel(\"Population\")\n",
    "axs[0].set_ylabel(\"Counts\")\n",
    "axs[0].set_title(\"Outlier inspection\")\n",
    "####################################################\n",
    "sns.boxplot(data=datasets_housing[\"HouseAge\"], color='#e74c3c', ax=axs[1])\n",
    "axs[1].set_xlabel(\"House Age\")\n",
    "axs[1].set_ylabel(\"Counts\")\n",
    "axs[1].set_title(\"Outlier inspection\")\n",
    "plt.show()"
   ]
  },
  {
   "cell_type": "markdown",
   "metadata": {},
   "source": [
    "#### Feature Engineering\n",
    "\n",
    "- Before we perform any feature engineering, we have to split datasets into three different part:\n",
    "\n",
    "    - $\\mathcal{D}_{train}$\n",
    "    - $\\mathcal{D}_{validation}$\n",
    "    - $\\mathcal{D}_{testing}$\n",
    "    \n",
    "    \n",
    "- Next we perform some feature transformation such as : Standardization, categorical encoding and etc"
   ]
  },
  {
   "cell_type": "code",
   "execution_count": 82,
   "metadata": {},
   "outputs": [],
   "source": [
    "#### We have to split the dataset in three part:\n",
    "trainset, validaion = train_test_split(datasets_housing,test_size=0.20,random_state=111)"
   ]
  },
  {
   "cell_type": "code",
   "execution_count": 83,
   "metadata": {},
   "outputs": [
    {
     "data": {
      "text/plain": [
       "(16512, 9)"
      ]
     },
     "execution_count": 83,
     "metadata": {},
     "output_type": "execute_result"
    }
   ],
   "source": [
    "trainset.shape"
   ]
  },
  {
   "cell_type": "code",
   "execution_count": 84,
   "metadata": {},
   "outputs": [
    {
     "data": {
      "text/plain": [
       "(4128, 9)"
      ]
     },
     "execution_count": 84,
     "metadata": {},
     "output_type": "execute_result"
    }
   ],
   "source": [
    "validaion.shape"
   ]
  },
  {
   "cell_type": "code",
   "execution_count": 85,
   "metadata": {},
   "outputs": [],
   "source": [
    "##### we further split the \n",
    "validset, testset = train_test_split(validaion,test_size=0.1,random_state= 112)"
   ]
  },
  {
   "cell_type": "code",
   "execution_count": 87,
   "metadata": {},
   "outputs": [
    {
     "data": {
      "text/plain": [
       "((3715, 9), (413, 9))"
      ]
     },
     "execution_count": 87,
     "metadata": {},
     "output_type": "execute_result"
    }
   ],
   "source": [
    "validset.shape, testset.shape"
   ]
  },
  {
   "cell_type": "code",
   "execution_count": 90,
   "metadata": {},
   "outputs": [],
   "source": [
    "#### extract the Xtrain and ytrain\n",
    "ytrain = trainset[\"MedHouseVal\"]\n",
    "Xtrain = trainset.drop([\"MedHouseVal\"],axis=1).reset_index(drop=True)\n",
    "yvalid = validset[\"MedHouseVal\"]\n",
    "Xvalid = validset.drop([\"MedHouseVal\"],axis=1).reset_index(drop=True)\n",
    "ytest = testset[\"MedHouseVal\"]\n",
    "Xtest = testset.drop([\"MedHouseVal\"],axis=1).reset_index(drop=True)"
   ]
  },
  {
   "cell_type": "code",
   "execution_count": 93,
   "metadata": {},
   "outputs": [
    {
     "data": {
      "text/html": [
       "<div>\n",
       "<style scoped>\n",
       "    .dataframe tbody tr th:only-of-type {\n",
       "        vertical-align: middle;\n",
       "    }\n",
       "\n",
       "    .dataframe tbody tr th {\n",
       "        vertical-align: top;\n",
       "    }\n",
       "\n",
       "    .dataframe thead th {\n",
       "        text-align: right;\n",
       "    }\n",
       "</style>\n",
       "<table border=\"1\" class=\"dataframe\">\n",
       "  <thead>\n",
       "    <tr style=\"text-align: right;\">\n",
       "      <th></th>\n",
       "      <th>MedInc</th>\n",
       "      <th>HouseAge</th>\n",
       "      <th>AveRooms</th>\n",
       "      <th>AveBedrms</th>\n",
       "      <th>Population</th>\n",
       "      <th>AveOccup</th>\n",
       "      <th>Latitude</th>\n",
       "      <th>Longitude</th>\n",
       "    </tr>\n",
       "  </thead>\n",
       "  <tbody>\n",
       "    <tr>\n",
       "      <th>0</th>\n",
       "      <td>1.7250</td>\n",
       "      <td>43.0</td>\n",
       "      <td>4.631579</td>\n",
       "      <td>1.105263</td>\n",
       "      <td>119.0</td>\n",
       "      <td>6.263158</td>\n",
       "      <td>38.59</td>\n",
       "      <td>-121.50</td>\n",
       "    </tr>\n",
       "    <tr>\n",
       "      <th>1</th>\n",
       "      <td>3.3268</td>\n",
       "      <td>23.0</td>\n",
       "      <td>4.440620</td>\n",
       "      <td>1.114745</td>\n",
       "      <td>4124.0</td>\n",
       "      <td>2.366036</td>\n",
       "      <td>37.47</td>\n",
       "      <td>-122.22</td>\n",
       "    </tr>\n",
       "    <tr>\n",
       "      <th>2</th>\n",
       "      <td>1.6341</td>\n",
       "      <td>38.0</td>\n",
       "      <td>3.355482</td>\n",
       "      <td>1.046512</td>\n",
       "      <td>1157.0</td>\n",
       "      <td>3.843854</td>\n",
       "      <td>33.99</td>\n",
       "      <td>-118.18</td>\n",
       "    </tr>\n",
       "    <tr>\n",
       "      <th>3</th>\n",
       "      <td>1.6932</td>\n",
       "      <td>37.0</td>\n",
       "      <td>4.661972</td>\n",
       "      <td>1.107042</td>\n",
       "      <td>841.0</td>\n",
       "      <td>2.369014</td>\n",
       "      <td>38.54</td>\n",
       "      <td>-121.49</td>\n",
       "    </tr>\n",
       "    <tr>\n",
       "      <th>4</th>\n",
       "      <td>3.7670</td>\n",
       "      <td>35.0</td>\n",
       "      <td>4.978648</td>\n",
       "      <td>0.975089</td>\n",
       "      <td>695.0</td>\n",
       "      <td>2.473310</td>\n",
       "      <td>32.77</td>\n",
       "      <td>-117.17</td>\n",
       "    </tr>\n",
       "  </tbody>\n",
       "</table>\n",
       "</div>"
      ],
      "text/plain": [
       "   MedInc  HouseAge  AveRooms  AveBedrms  Population  AveOccup  Latitude  \\\n",
       "0  1.7250      43.0  4.631579   1.105263       119.0  6.263158     38.59   \n",
       "1  3.3268      23.0  4.440620   1.114745      4124.0  2.366036     37.47   \n",
       "2  1.6341      38.0  3.355482   1.046512      1157.0  3.843854     33.99   \n",
       "3  1.6932      37.0  4.661972   1.107042       841.0  2.369014     38.54   \n",
       "4  3.7670      35.0  4.978648   0.975089       695.0  2.473310     32.77   \n",
       "\n",
       "   Longitude  \n",
       "0    -121.50  \n",
       "1    -122.22  \n",
       "2    -118.18  \n",
       "3    -121.49  \n",
       "4    -117.17  "
      ]
     },
     "execution_count": 93,
     "metadata": {},
     "output_type": "execute_result"
    }
   ],
   "source": [
    "Xtrain.head()"
   ]
  },
  {
   "cell_type": "markdown",
   "metadata": {},
   "source": [
    "#### Basic feature engineering "
   ]
  },
  {
   "cell_type": "code",
   "execution_count": 94,
   "metadata": {},
   "outputs": [
    {
     "data": {
      "text/plain": [
       "StandardScaler()"
      ]
     },
     "execution_count": 94,
     "metadata": {},
     "output_type": "execute_result"
    }
   ],
   "source": [
    "scaler = StandardScaler()\n",
    "scaler.fit(Xtrain)"
   ]
  },
  {
   "cell_type": "code",
   "execution_count": 95,
   "metadata": {},
   "outputs": [],
   "source": [
    "Xtrain_transform = scaler.transform(Xtrain)\n",
    "Xvalid_transform = scaler.transform(Xvalid)\n",
    "Xtest_transform = scaler.transform(Xtest)"
   ]
  },
  {
   "cell_type": "markdown",
   "metadata": {},
   "source": [
    "#### Modelling "
   ]
  },
  {
   "cell_type": "code",
   "execution_count": 141,
   "metadata": {},
   "outputs": [
    {
     "name": "stdout",
     "output_type": "stream",
     "text": [
      "Done with:  LinearRegression\n",
      "Done with:  Lasso\n",
      "Done with:  Ridge\n",
      "Done with:  SVR\n",
      "Done with:  RandomForestRegressor\n"
     ]
    }
   ],
   "source": [
    "linRegression = LinearRegression()\n",
    "lassoReg = Lasso(alpha=0.005,random_state=1000)\n",
    "ridgeReg = Ridge(alpha=0.005,random_state=111)\n",
    "svmReg = SVR()\n",
    "forestReg = RandomForestRegressor(random_state=111)\n",
    "\n",
    "data_score = {}\n",
    "\n",
    "for model in [linRegression,lassoReg,ridgeReg,svmReg,forestReg]:\n",
    "    \n",
    "    model.fit(Xtrain_transform,ytrain)\n",
    "    \n",
    "    predictions = model.predict(Xvalid_transform)\n",
    "    \n",
    "    data_score[model.__class__.__name__] = mean_squared_error(predictions,yvalid)\n",
    "    \n",
    "    \"\"\" Perform other loss metrics \"\"\"\n",
    "    \n",
    "    print(\"Done with: \",model.__class__.__name__)"
   ]
  },
  {
   "cell_type": "markdown",
   "metadata": {},
   "source": [
    "#### Error Analysis"
   ]
  },
  {
   "cell_type": "code",
   "execution_count": 142,
   "metadata": {},
   "outputs": [
    {
     "data": {
      "image/png": "[encoded data removed]",
      "text/plain": [
       "<Figure size 648x432 with 1 Axes>"
      ]
     },
     "metadata": {},
     "output_type": "display_data"
    }
   ],
   "source": [
    "#### compare the performance each model. \n",
    "names = list(data_score.keys())\n",
    "values = list(data_score.values())\n",
    "\n",
    "with plt.style.context(\"ggplot\"):\n",
    "    \n",
    "    plt.figure(figsize=(9,6))\n",
    "    \n",
    "    plt.bar(names,values,color=\"#FF4A4A\")\n",
    "    plt.title(\"Error Analysis : Mean Squared Error\")\n",
    "    plt.xlabel(\"Models\")\n",
    "    plt.ylabel(\"values\")\n",
    "    plt.show()"
   ]
  },
  {
   "cell_type": "code",
   "execution_count": 132,
   "metadata": {},
   "outputs": [
    {
     "data": {
      "image/png": "[encoded data removed]",
      "text/plain": [
       "<Figure size 648x432 with 1 Axes>"
      ]
     },
     "metadata": {},
     "output_type": "display_data"
    }
   ],
   "source": [
    "with plt.style.context(\"ggplot\"):\n",
    "    \n",
    "    plt.figure(figsize=(9,6))\n",
    "    \n",
    "    plt.bar(Xtrain.columns,linRegression.coef_.ravel(),color=\"#FF4A4A\")\n",
    "    plt.title(\"feature contributions\")\n",
    "    plt.xlabel(\"features\")\n",
    "    plt.ylabel(\"values\")\n",
    "    plt.xticks(rotation=45)\n",
    "    plt.show()"
   ]
  },
  {
   "cell_type": "code",
   "execution_count": 218,
   "metadata": {},
   "outputs": [
    {
     "data": {
      "image/png": "[encoded data removed]",
      "text/plain": [
       "<Figure size 648x504 with 1 Axes>"
      ]
     },
     "metadata": {},
     "output_type": "display_data"
    }
   ],
   "source": [
    "with plt.style.context(\"ggplot\"):\n",
    "    \n",
    "    plt.figure(figsize=(9,7))\n",
    "    \n",
    "    plt.bar(Xtrain.columns.ravel(),forestReg.feature_importances_.ravel())\n",
    "    plt.xticks(rotation = 45)\n",
    "    plt.title(f\"feature contribution under {forestReg.__class__.__name__}\")\n",
    "    plt.xlabel(\"features\",size=15)\n",
    "    plt.ylabel(\"Contributing factors\",size=15)\n",
    "    plt.tick_params(axis='x', labelsize=15)\n",
    "    plt.tick_params(axis='y', labelsize=15)\n",
    "    plt.show()"
   ]
  },
  {
   "cell_type": "markdown",
   "metadata": {},
   "source": [
    "##### Task \n",
    "\n",
    "- Build your own Regression model using Sklearn. \n",
    "- Using the same datasets or any available one on kaggle. "
   ]
  },
  {
   "cell_type": "markdown",
   "metadata": {},
   "source": [
    "### classification Modelling "
   ]
  },
  {
   "cell_type": "code",
   "execution_count": 136,
   "metadata": {},
   "outputs": [],
   "source": [
    "data = load_breast_cancer()"
   ]
  },
  {
   "cell_type": "code",
   "execution_count": 138,
   "metadata": {},
   "outputs": [],
   "source": [
    "feature_names = data[\"feature_names\"]\n",
    "datasets = data[\"data\"]\n",
    "targets = data[\"target\"]\n",
    "target_names = data[\"target_names\"]"
   ]
  },
  {
   "cell_type": "code",
   "execution_count": 144,
   "metadata": {},
   "outputs": [],
   "source": [
    "dataset_cancer = pd.DataFrame(datasets,columns=feature_names)\n",
    "dataset_cancer[\"target\"] = targets"
   ]
  },
  {
   "cell_type": "code",
   "execution_count": 145,
   "metadata": {},
   "outputs": [
    {
     "data": {
      "text/html": [
       "<div>\n",
       "<style scoped>\n",
       "    .dataframe tbody tr th:only-of-type {\n",
       "        vertical-align: middle;\n",
       "    }\n",
       "\n",
       "    .dataframe tbody tr th {\n",
       "        vertical-align: top;\n",
       "    }\n",
       "\n",
       "    .dataframe thead th {\n",
       "        text-align: right;\n",
       "    }\n",
       "</style>\n",
       "<table border=\"1\" class=\"dataframe\">\n",
       "  <thead>\n",
       "    <tr style=\"text-align: right;\">\n",
       "      <th></th>\n",
       "      <th>mean radius</th>\n",
       "      <th>mean texture</th>\n",
       "      <th>mean perimeter</th>\n",
       "      <th>mean area</th>\n",
       "      <th>mean smoothness</th>\n",
       "      <th>mean compactness</th>\n",
       "      <th>mean concavity</th>\n",
       "      <th>mean concave points</th>\n",
       "      <th>mean symmetry</th>\n",
       "      <th>mean fractal dimension</th>\n",
       "      <th>...</th>\n",
       "      <th>worst texture</th>\n",
       "      <th>worst perimeter</th>\n",
       "      <th>worst area</th>\n",
       "      <th>worst smoothness</th>\n",
       "      <th>worst compactness</th>\n",
       "      <th>worst concavity</th>\n",
       "      <th>worst concave points</th>\n",
       "      <th>worst symmetry</th>\n",
       "      <th>worst fractal dimension</th>\n",
       "      <th>target</th>\n",
       "    </tr>\n",
       "  </thead>\n",
       "  <tbody>\n",
       "    <tr>\n",
       "      <th>0</th>\n",
       "      <td>17.99</td>\n",
       "      <td>10.38</td>\n",
       "      <td>122.80</td>\n",
       "      <td>1001.0</td>\n",
       "      <td>0.11840</td>\n",
       "      <td>0.27760</td>\n",
       "      <td>0.3001</td>\n",
       "      <td>0.14710</td>\n",
       "      <td>0.2419</td>\n",
       "      <td>0.07871</td>\n",
       "      <td>...</td>\n",
       "      <td>17.33</td>\n",
       "      <td>184.60</td>\n",
       "      <td>2019.0</td>\n",
       "      <td>0.1622</td>\n",
       "      <td>0.6656</td>\n",
       "      <td>0.7119</td>\n",
       "      <td>0.2654</td>\n",
       "      <td>0.4601</td>\n",
       "      <td>0.11890</td>\n",
       "      <td>0</td>\n",
       "    </tr>\n",
       "    <tr>\n",
       "      <th>1</th>\n",
       "      <td>20.57</td>\n",
       "      <td>17.77</td>\n",
       "      <td>132.90</td>\n",
       "      <td>1326.0</td>\n",
       "      <td>0.08474</td>\n",
       "      <td>0.07864</td>\n",
       "      <td>0.0869</td>\n",
       "      <td>0.07017</td>\n",
       "      <td>0.1812</td>\n",
       "      <td>0.05667</td>\n",
       "      <td>...</td>\n",
       "      <td>23.41</td>\n",
       "      <td>158.80</td>\n",
       "      <td>1956.0</td>\n",
       "      <td>0.1238</td>\n",
       "      <td>0.1866</td>\n",
       "      <td>0.2416</td>\n",
       "      <td>0.1860</td>\n",
       "      <td>0.2750</td>\n",
       "      <td>0.08902</td>\n",
       "      <td>0</td>\n",
       "    </tr>\n",
       "    <tr>\n",
       "      <th>2</th>\n",
       "      <td>19.69</td>\n",
       "      <td>21.25</td>\n",
       "      <td>130.00</td>\n",
       "      <td>1203.0</td>\n",
       "      <td>0.10960</td>\n",
       "      <td>0.15990</td>\n",
       "      <td>0.1974</td>\n",
       "      <td>0.12790</td>\n",
       "      <td>0.2069</td>\n",
       "      <td>0.05999</td>\n",
       "      <td>...</td>\n",
       "      <td>25.53</td>\n",
       "      <td>152.50</td>\n",
       "      <td>1709.0</td>\n",
       "      <td>0.1444</td>\n",
       "      <td>0.4245</td>\n",
       "      <td>0.4504</td>\n",
       "      <td>0.2430</td>\n",
       "      <td>0.3613</td>\n",
       "      <td>0.08758</td>\n",
       "      <td>0</td>\n",
       "    </tr>\n",
       "    <tr>\n",
       "      <th>3</th>\n",
       "      <td>11.42</td>\n",
       "      <td>20.38</td>\n",
       "      <td>77.58</td>\n",
       "      <td>386.1</td>\n",
       "      <td>0.14250</td>\n",
       "      <td>0.28390</td>\n",
       "      <td>0.2414</td>\n",
       "      <td>0.10520</td>\n",
       "      <td>0.2597</td>\n",
       "      <td>0.09744</td>\n",
       "      <td>...</td>\n",
       "      <td>26.50</td>\n",
       "      <td>98.87</td>\n",
       "      <td>567.7</td>\n",
       "      <td>0.2098</td>\n",
       "      <td>0.8663</td>\n",
       "      <td>0.6869</td>\n",
       "      <td>0.2575</td>\n",
       "      <td>0.6638</td>\n",
       "      <td>0.17300</td>\n",
       "      <td>0</td>\n",
       "    </tr>\n",
       "    <tr>\n",
       "      <th>4</th>\n",
       "      <td>20.29</td>\n",
       "      <td>14.34</td>\n",
       "      <td>135.10</td>\n",
       "      <td>1297.0</td>\n",
       "      <td>0.10030</td>\n",
       "      <td>0.13280</td>\n",
       "      <td>0.1980</td>\n",
       "      <td>0.10430</td>\n",
       "      <td>0.1809</td>\n",
       "      <td>0.05883</td>\n",
       "      <td>...</td>\n",
       "      <td>16.67</td>\n",
       "      <td>152.20</td>\n",
       "      <td>1575.0</td>\n",
       "      <td>0.1374</td>\n",
       "      <td>0.2050</td>\n",
       "      <td>0.4000</td>\n",
       "      <td>0.1625</td>\n",
       "      <td>0.2364</td>\n",
       "      <td>0.07678</td>\n",
       "      <td>0</td>\n",
       "    </tr>\n",
       "  </tbody>\n",
       "</table>\n",
       "<p>5 rows × 31 columns</p>\n",
       "</div>"
      ],
      "text/plain": [
       "   mean radius  mean texture  mean perimeter  mean area  mean smoothness  \\\n",
       "0        17.99         10.38          122.80     1001.0          0.11840   \n",
       "1        20.57         17.77          132.90     1326.0          0.08474   \n",
       "2        19.69         21.25          130.00     1203.0          0.10960   \n",
       "3        11.42         20.38           77.58      386.1          0.14250   \n",
       "4        20.29         14.34          135.10     1297.0          0.10030   \n",
       "\n",
       "   mean compactness  mean concavity  mean concave points  mean symmetry  \\\n",
       "0           0.27760          0.3001              0.14710         0.2419   \n",
       "1           0.07864          0.0869              0.07017         0.1812   \n",
       "2           0.15990          0.1974              0.12790         0.2069   \n",
       "3           0.28390          0.2414              0.10520         0.2597   \n",
       "4           0.13280          0.1980              0.10430         0.1809   \n",
       "\n",
       "   mean fractal dimension  ...  worst texture  worst perimeter  worst area  \\\n",
       "0                 0.07871  ...          17.33           184.60      2019.0   \n",
       "1                 0.05667  ...          23.41           158.80      1956.0   \n",
       "2                 0.05999  ...          25.53           152.50      1709.0   \n",
       "3                 0.09744  ...          26.50            98.87       567.7   \n",
       "4                 0.05883  ...          16.67           152.20      1575.0   \n",
       "\n",
       "   worst smoothness  worst compactness  worst concavity  worst concave points  \\\n",
       "0            0.1622             0.6656           0.7119                0.2654   \n",
       "1            0.1238             0.1866           0.2416                0.1860   \n",
       "2            0.1444             0.4245           0.4504                0.2430   \n",
       "3            0.2098             0.8663           0.6869                0.2575   \n",
       "4            0.1374             0.2050           0.4000                0.1625   \n",
       "\n",
       "   worst symmetry  worst fractal dimension  target  \n",
       "0          0.4601                  0.11890       0  \n",
       "1          0.2750                  0.08902       0  \n",
       "2          0.3613                  0.08758       0  \n",
       "3          0.6638                  0.17300       0  \n",
       "4          0.2364                  0.07678       0  \n",
       "\n",
       "[5 rows x 31 columns]"
      ]
     },
     "execution_count": 145,
     "metadata": {},
     "output_type": "execute_result"
    }
   ],
   "source": [
    "dataset_cancer.head()"
   ]
  },
  {
   "cell_type": "code",
   "execution_count": 146,
   "metadata": {},
   "outputs": [
    {
     "data": {
      "text/plain": [
       "Index(['mean radius', 'mean texture', 'mean perimeter', 'mean area',\n",
       "       'mean smoothness', 'mean compactness', 'mean concavity',\n",
       "       'mean concave points', 'mean symmetry', 'mean fractal dimension',\n",
       "       'radius error', 'texture error', 'perimeter error', 'area error',\n",
       "       'smoothness error', 'compactness error', 'concavity error',\n",
       "       'concave points error', 'symmetry error', 'fractal dimension error',\n",
       "       'worst radius', 'worst texture', 'worst perimeter', 'worst area',\n",
       "       'worst smoothness', 'worst compactness', 'worst concavity',\n",
       "       'worst concave points', 'worst symmetry', 'worst fractal dimension',\n",
       "       'target'],\n",
       "      dtype='object')"
      ]
     },
     "execution_count": 146,
     "metadata": {},
     "output_type": "execute_result"
    }
   ],
   "source": [
    "dataset_cancer.columns"
   ]
  },
  {
   "cell_type": "code",
   "execution_count": 148,
   "metadata": {},
   "outputs": [],
   "source": [
    "dataset_cancer.columns = dataset_cancer.columns.str.replace(\" \",\"_\")"
   ]
  },
  {
   "cell_type": "code",
   "execution_count": 149,
   "metadata": {},
   "outputs": [
    {
     "data": {
      "text/plain": [
       "Index(['mean_radius', 'mean_texture', 'mean_perimeter', 'mean_area',\n",
       "       'mean_smoothness', 'mean_compactness', 'mean_concavity',\n",
       "       'mean_concave_points', 'mean_symmetry', 'mean_fractal_dimension',\n",
       "       'radius_error', 'texture_error', 'perimeter_error', 'area_error',\n",
       "       'smoothness_error', 'compactness_error', 'concavity_error',\n",
       "       'concave_points_error', 'symmetry_error', 'fractal_dimension_error',\n",
       "       'worst_radius', 'worst_texture', 'worst_perimeter', 'worst_area',\n",
       "       'worst_smoothness', 'worst_compactness', 'worst_concavity',\n",
       "       'worst_concave_points', 'worst_symmetry', 'worst_fractal_dimension',\n",
       "       'target'],\n",
       "      dtype='object')"
      ]
     },
     "execution_count": 149,
     "metadata": {},
     "output_type": "execute_result"
    }
   ],
   "source": [
    "dataset_cancer.columns"
   ]
  },
  {
   "cell_type": "markdown",
   "metadata": {},
   "source": [
    "#### Exploratory Analysis"
   ]
  },
  {
   "cell_type": "code",
   "execution_count": 150,
   "metadata": {},
   "outputs": [
    {
     "data": {
      "text/plain": [
       "mean_radius                0\n",
       "mean_texture               0\n",
       "mean_perimeter             0\n",
       "mean_area                  0\n",
       "mean_smoothness            0\n",
       "mean_compactness           0\n",
       "mean_concavity             0\n",
       "mean_concave_points        0\n",
       "mean_symmetry              0\n",
       "mean_fractal_dimension     0\n",
       "radius_error               0\n",
       "texture_error              0\n",
       "perimeter_error            0\n",
       "area_error                 0\n",
       "smoothness_error           0\n",
       "compactness_error          0\n",
       "concavity_error            0\n",
       "concave_points_error       0\n",
       "symmetry_error             0\n",
       "fractal_dimension_error    0\n",
       "worst_radius               0\n",
       "worst_texture              0\n",
       "worst_perimeter            0\n",
       "worst_area                 0\n",
       "worst_smoothness           0\n",
       "worst_compactness          0\n",
       "worst_concavity            0\n",
       "worst_concave_points       0\n",
       "worst_symmetry             0\n",
       "worst_fractal_dimension    0\n",
       "target                     0\n",
       "dtype: int64"
      ]
     },
     "execution_count": 150,
     "metadata": {},
     "output_type": "execute_result"
    }
   ],
   "source": [
    "dataset_cancer.isnull().sum()"
   ]
  },
  {
   "cell_type": "code",
   "execution_count": 151,
   "metadata": {},
   "outputs": [
    {
     "data": {
      "text/plain": [
       "(569, 31)"
      ]
     },
     "execution_count": 151,
     "metadata": {},
     "output_type": "execute_result"
    }
   ],
   "source": [
    "dataset_cancer.shape"
   ]
  },
  {
   "cell_type": "code",
   "execution_count": 157,
   "metadata": {},
   "outputs": [
    {
     "name": "stdout",
     "output_type": "stream",
     "text": [
      "<class 'pandas.core.frame.DataFrame'>\n",
      "RangeIndex: 569 entries, 0 to 568\n",
      "Data columns (total 31 columns):\n",
      " #   Column                   Non-Null Count  Dtype  \n",
      "---  ------                   --------------  -----  \n",
      " 0   mean_radius              569 non-null    float64\n",
      " 1   mean_texture             569 non-null    float64\n",
      " 2   mean_perimeter           569 non-null    float64\n",
      " 3   mean_area                569 non-null    float64\n",
      " 4   mean_smoothness          569 non-null    float64\n",
      " 5   mean_compactness         569 non-null    float64\n",
      " 6   mean_concavity           569 non-null    float64\n",
      " 7   mean_concave_points      569 non-null    float64\n",
      " 8   mean_symmetry            569 non-null    float64\n",
      " 9   mean_fractal_dimension   569 non-null    float64\n",
      " 10  radius_error             569 non-null    float64\n",
      " 11  texture_error            569 non-null    float64\n",
      " 12  perimeter_error          569 non-null    float64\n",
      " 13  area_error               569 non-null    float64\n",
      " 14  smoothness_error         569 non-null    float64\n",
      " 15  compactness_error        569 non-null    float64\n",
      " 16  concavity_error          569 non-null    float64\n",
      " 17  concave_points_error     569 non-null    float64\n",
      " 18  symmetry_error           569 non-null    float64\n",
      " 19  fractal_dimension_error  569 non-null    float64\n",
      " 20  worst_radius             569 non-null    float64\n",
      " 21  worst_texture            569 non-null    float64\n",
      " 22  worst_perimeter          569 non-null    float64\n",
      " 23  worst_area               569 non-null    float64\n",
      " 24  worst_smoothness         569 non-null    float64\n",
      " 25  worst_compactness        569 non-null    float64\n",
      " 26  worst_concavity          569 non-null    float64\n",
      " 27  worst_concave_points     569 non-null    float64\n",
      " 28  worst_symmetry           569 non-null    float64\n",
      " 29  worst_fractal_dimension  569 non-null    float64\n",
      " 30  target                   569 non-null    int64  \n",
      "dtypes: float64(30), int64(1)\n",
      "memory usage: 137.9 KB\n"
     ]
    }
   ],
   "source": [
    "dataset_cancer.info()"
   ]
  },
  {
   "cell_type": "code",
   "execution_count": 272,
   "metadata": {},
   "outputs": [
    {
     "data": {
      "text/plain": [
       "1    357\n",
       "0    212\n",
       "Name: target, dtype: int64"
      ]
     },
     "execution_count": 272,
     "metadata": {},
     "output_type": "execute_result"
    }
   ],
   "source": [
    "###### check the number of malign and benign condition \n",
    "counts = dataset_cancer.target.value_counts()\n",
    "counts"
   ]
  },
  {
   "cell_type": "code",
   "execution_count": 273,
   "metadata": {},
   "outputs": [],
   "source": [
    "counts.index = counts.index.map({1:\"malignant\",0:\"benign\"})"
   ]
  },
  {
   "cell_type": "code",
   "execution_count": 274,
   "metadata": {},
   "outputs": [
    {
     "data": {
      "text/plain": [
       "malignant    357\n",
       "benign       212\n",
       "Name: target, dtype: int64"
      ]
     },
     "execution_count": 274,
     "metadata": {},
     "output_type": "execute_result"
    }
   ],
   "source": [
    "counts"
   ]
  },
  {
   "cell_type": "code",
   "execution_count": 275,
   "metadata": {},
   "outputs": [
    {
     "data": {
      "image/png": "[encoded data removed]",
      "text/plain": [
       "<Figure size 648x504 with 1 Axes>"
      ]
     },
     "metadata": {},
     "output_type": "display_data"
    }
   ],
   "source": [
    "plt.figure(figsize=(9,7))\n",
    "sns.barplot(x=counts.index,y=counts.values)\n",
    "plt.ylabel(\"Frequency of target\",size=15)\n",
    "plt.xlabel(\"categories\",size=15)\n",
    "plt.title(\"Distribution of the target\",size=15)\n",
    "plt.tick_params(axis=\"x\",labelsize=15)\n",
    "plt.tick_params(axis=\"y\",labelsize=15)\n",
    "plt.show()"
   ]
  },
  {
   "cell_type": "code",
   "execution_count": 176,
   "metadata": {},
   "outputs": [
    {
     "data": {
      "text/html": [
       "<div>\n",
       "<style scoped>\n",
       "    .dataframe tbody tr th:only-of-type {\n",
       "        vertical-align: middle;\n",
       "    }\n",
       "\n",
       "    .dataframe tbody tr th {\n",
       "        vertical-align: top;\n",
       "    }\n",
       "\n",
       "    .dataframe thead th {\n",
       "        text-align: right;\n",
       "    }\n",
       "</style>\n",
       "<table border=\"1\" class=\"dataframe\">\n",
       "  <thead>\n",
       "    <tr style=\"text-align: right;\">\n",
       "      <th></th>\n",
       "      <th>mean_radius</th>\n",
       "      <th>mean_texture</th>\n",
       "      <th>mean_perimeter</th>\n",
       "      <th>mean_area</th>\n",
       "      <th>mean_smoothness</th>\n",
       "      <th>mean_compactness</th>\n",
       "      <th>mean_concavity</th>\n",
       "      <th>mean_concave_points</th>\n",
       "      <th>mean_symmetry</th>\n",
       "      <th>mean_fractal_dimension</th>\n",
       "      <th>...</th>\n",
       "      <th>worst_radius</th>\n",
       "      <th>worst_texture</th>\n",
       "      <th>worst_perimeter</th>\n",
       "      <th>worst_area</th>\n",
       "      <th>worst_smoothness</th>\n",
       "      <th>worst_compactness</th>\n",
       "      <th>worst_concavity</th>\n",
       "      <th>worst_concave_points</th>\n",
       "      <th>worst_symmetry</th>\n",
       "      <th>worst_fractal_dimension</th>\n",
       "    </tr>\n",
       "  </thead>\n",
       "  <tbody>\n",
       "    <tr>\n",
       "      <th>count</th>\n",
       "      <td>569.000</td>\n",
       "      <td>569.000</td>\n",
       "      <td>569.000</td>\n",
       "      <td>569.000</td>\n",
       "      <td>569.000</td>\n",
       "      <td>569.000</td>\n",
       "      <td>569.000</td>\n",
       "      <td>569.000</td>\n",
       "      <td>569.000</td>\n",
       "      <td>569.000</td>\n",
       "      <td>...</td>\n",
       "      <td>569.000</td>\n",
       "      <td>569.000</td>\n",
       "      <td>569.000</td>\n",
       "      <td>569.000</td>\n",
       "      <td>569.000</td>\n",
       "      <td>569.000</td>\n",
       "      <td>569.000</td>\n",
       "      <td>569.000</td>\n",
       "      <td>569.000</td>\n",
       "      <td>569.000</td>\n",
       "    </tr>\n",
       "    <tr>\n",
       "      <th>mean</th>\n",
       "      <td>14.127</td>\n",
       "      <td>19.290</td>\n",
       "      <td>91.969</td>\n",
       "      <td>654.889</td>\n",
       "      <td>0.096</td>\n",
       "      <td>0.104</td>\n",
       "      <td>0.089</td>\n",
       "      <td>0.049</td>\n",
       "      <td>0.181</td>\n",
       "      <td>0.063</td>\n",
       "      <td>...</td>\n",
       "      <td>16.269</td>\n",
       "      <td>25.677</td>\n",
       "      <td>107.261</td>\n",
       "      <td>880.583</td>\n",
       "      <td>0.132</td>\n",
       "      <td>0.254</td>\n",
       "      <td>0.272</td>\n",
       "      <td>0.115</td>\n",
       "      <td>0.290</td>\n",
       "      <td>0.084</td>\n",
       "    </tr>\n",
       "    <tr>\n",
       "      <th>std</th>\n",
       "      <td>3.524</td>\n",
       "      <td>4.301</td>\n",
       "      <td>24.299</td>\n",
       "      <td>351.914</td>\n",
       "      <td>0.014</td>\n",
       "      <td>0.053</td>\n",
       "      <td>0.080</td>\n",
       "      <td>0.039</td>\n",
       "      <td>0.027</td>\n",
       "      <td>0.007</td>\n",
       "      <td>...</td>\n",
       "      <td>4.833</td>\n",
       "      <td>6.146</td>\n",
       "      <td>33.603</td>\n",
       "      <td>569.357</td>\n",
       "      <td>0.023</td>\n",
       "      <td>0.157</td>\n",
       "      <td>0.209</td>\n",
       "      <td>0.066</td>\n",
       "      <td>0.062</td>\n",
       "      <td>0.018</td>\n",
       "    </tr>\n",
       "    <tr>\n",
       "      <th>min</th>\n",
       "      <td>6.981</td>\n",
       "      <td>9.710</td>\n",
       "      <td>43.790</td>\n",
       "      <td>143.500</td>\n",
       "      <td>0.053</td>\n",
       "      <td>0.019</td>\n",
       "      <td>0.000</td>\n",
       "      <td>0.000</td>\n",
       "      <td>0.106</td>\n",
       "      <td>0.050</td>\n",
       "      <td>...</td>\n",
       "      <td>7.930</td>\n",
       "      <td>12.020</td>\n",
       "      <td>50.410</td>\n",
       "      <td>185.200</td>\n",
       "      <td>0.071</td>\n",
       "      <td>0.027</td>\n",
       "      <td>0.000</td>\n",
       "      <td>0.000</td>\n",
       "      <td>0.156</td>\n",
       "      <td>0.055</td>\n",
       "    </tr>\n",
       "    <tr>\n",
       "      <th>25%</th>\n",
       "      <td>11.700</td>\n",
       "      <td>16.170</td>\n",
       "      <td>75.170</td>\n",
       "      <td>420.300</td>\n",
       "      <td>0.086</td>\n",
       "      <td>0.065</td>\n",
       "      <td>0.030</td>\n",
       "      <td>0.020</td>\n",
       "      <td>0.162</td>\n",
       "      <td>0.058</td>\n",
       "      <td>...</td>\n",
       "      <td>13.010</td>\n",
       "      <td>21.080</td>\n",
       "      <td>84.110</td>\n",
       "      <td>515.300</td>\n",
       "      <td>0.117</td>\n",
       "      <td>0.147</td>\n",
       "      <td>0.114</td>\n",
       "      <td>0.065</td>\n",
       "      <td>0.250</td>\n",
       "      <td>0.071</td>\n",
       "    </tr>\n",
       "    <tr>\n",
       "      <th>50%</th>\n",
       "      <td>13.370</td>\n",
       "      <td>18.840</td>\n",
       "      <td>86.240</td>\n",
       "      <td>551.100</td>\n",
       "      <td>0.096</td>\n",
       "      <td>0.093</td>\n",
       "      <td>0.062</td>\n",
       "      <td>0.034</td>\n",
       "      <td>0.179</td>\n",
       "      <td>0.062</td>\n",
       "      <td>...</td>\n",
       "      <td>14.970</td>\n",
       "      <td>25.410</td>\n",
       "      <td>97.660</td>\n",
       "      <td>686.500</td>\n",
       "      <td>0.131</td>\n",
       "      <td>0.212</td>\n",
       "      <td>0.227</td>\n",
       "      <td>0.100</td>\n",
       "      <td>0.282</td>\n",
       "      <td>0.080</td>\n",
       "    </tr>\n",
       "    <tr>\n",
       "      <th>75%</th>\n",
       "      <td>15.780</td>\n",
       "      <td>21.800</td>\n",
       "      <td>104.100</td>\n",
       "      <td>782.700</td>\n",
       "      <td>0.105</td>\n",
       "      <td>0.130</td>\n",
       "      <td>0.131</td>\n",
       "      <td>0.074</td>\n",
       "      <td>0.196</td>\n",
       "      <td>0.066</td>\n",
       "      <td>...</td>\n",
       "      <td>18.790</td>\n",
       "      <td>29.720</td>\n",
       "      <td>125.400</td>\n",
       "      <td>1084.000</td>\n",
       "      <td>0.146</td>\n",
       "      <td>0.339</td>\n",
       "      <td>0.383</td>\n",
       "      <td>0.161</td>\n",
       "      <td>0.318</td>\n",
       "      <td>0.092</td>\n",
       "    </tr>\n",
       "    <tr>\n",
       "      <th>max</th>\n",
       "      <td>28.110</td>\n",
       "      <td>39.280</td>\n",
       "      <td>188.500</td>\n",
       "      <td>2501.000</td>\n",
       "      <td>0.163</td>\n",
       "      <td>0.345</td>\n",
       "      <td>0.427</td>\n",
       "      <td>0.201</td>\n",
       "      <td>0.304</td>\n",
       "      <td>0.097</td>\n",
       "      <td>...</td>\n",
       "      <td>36.040</td>\n",
       "      <td>49.540</td>\n",
       "      <td>251.200</td>\n",
       "      <td>4254.000</td>\n",
       "      <td>0.223</td>\n",
       "      <td>1.058</td>\n",
       "      <td>1.252</td>\n",
       "      <td>0.291</td>\n",
       "      <td>0.664</td>\n",
       "      <td>0.208</td>\n",
       "    </tr>\n",
       "  </tbody>\n",
       "</table>\n",
       "<p>8 rows × 30 columns</p>\n",
       "</div>"
      ],
      "text/plain": [
       "       mean_radius  mean_texture  mean_perimeter  mean_area  mean_smoothness  \\\n",
       "count      569.000       569.000         569.000    569.000          569.000   \n",
       "mean        14.127        19.290          91.969    654.889            0.096   \n",
       "std          3.524         4.301          24.299    351.914            0.014   \n",
       "min          6.981         9.710          43.790    143.500            0.053   \n",
       "25%         11.700        16.170          75.170    420.300            0.086   \n",
       "50%         13.370        18.840          86.240    551.100            0.096   \n",
       "75%         15.780        21.800         104.100    782.700            0.105   \n",
       "max         28.110        39.280         188.500   2501.000            0.163   \n",
       "\n",
       "       mean_compactness  mean_concavity  mean_concave_points  mean_symmetry  \\\n",
       "count           569.000         569.000              569.000        569.000   \n",
       "mean              0.104           0.089                0.049          0.181   \n",
       "std               0.053           0.080                0.039          0.027   \n",
       "min               0.019           0.000                0.000          0.106   \n",
       "25%               0.065           0.030                0.020          0.162   \n",
       "50%               0.093           0.062                0.034          0.179   \n",
       "75%               0.130           0.131                0.074          0.196   \n",
       "max               0.345           0.427                0.201          0.304   \n",
       "\n",
       "       mean_fractal_dimension  ...  worst_radius  worst_texture  \\\n",
       "count                 569.000  ...       569.000        569.000   \n",
       "mean                    0.063  ...        16.269         25.677   \n",
       "std                     0.007  ...         4.833          6.146   \n",
       "min                     0.050  ...         7.930         12.020   \n",
       "25%                     0.058  ...        13.010         21.080   \n",
       "50%                     0.062  ...        14.970         25.410   \n",
       "75%                     0.066  ...        18.790         29.720   \n",
       "max                     0.097  ...        36.040         49.540   \n",
       "\n",
       "       worst_perimeter  worst_area  worst_smoothness  worst_compactness  \\\n",
       "count          569.000     569.000           569.000            569.000   \n",
       "mean           107.261     880.583             0.132              0.254   \n",
       "std             33.603     569.357             0.023              0.157   \n",
       "min             50.410     185.200             0.071              0.027   \n",
       "25%             84.110     515.300             0.117              0.147   \n",
       "50%             97.660     686.500             0.131              0.212   \n",
       "75%            125.400    1084.000             0.146              0.339   \n",
       "max            251.200    4254.000             0.223              1.058   \n",
       "\n",
       "       worst_concavity  worst_concave_points  worst_symmetry  \\\n",
       "count          569.000               569.000         569.000   \n",
       "mean             0.272                 0.115           0.290   \n",
       "std              0.209                 0.066           0.062   \n",
       "min              0.000                 0.000           0.156   \n",
       "25%              0.114                 0.065           0.250   \n",
       "50%              0.227                 0.100           0.282   \n",
       "75%              0.383                 0.161           0.318   \n",
       "max              1.252                 0.291           0.664   \n",
       "\n",
       "       worst_fractal_dimension  \n",
       "count                  569.000  \n",
       "mean                     0.084  \n",
       "std                      0.018  \n",
       "min                      0.055  \n",
       "25%                      0.071  \n",
       "50%                      0.080  \n",
       "75%                      0.092  \n",
       "max                      0.208  \n",
       "\n",
       "[8 rows x 30 columns]"
      ]
     },
     "execution_count": 176,
     "metadata": {},
     "output_type": "execute_result"
    }
   ],
   "source": [
    "####### find the statistical properties of the features:\n",
    "np.round(dataset_cancer.drop([\"target\"],axis=1).describe(),3)"
   ]
  },
  {
   "cell_type": "code",
   "execution_count": 182,
   "metadata": {},
   "outputs": [
    {
     "data": {
      "image/png": "[encoded data removed]",
      "text/plain": [
       "<Figure size 720x504 with 2 Axes>"
      ]
     },
     "metadata": {},
     "output_type": "display_data"
    }
   ],
   "source": [
    "###### visualize some correlation between some selected features: \n",
    "selected_features = [\"mean_radius\",\"mean_texture\",\"mean_perimeter\",\"mean_area\"]\n",
    "sns.set_style(\"darkgrid\")\n",
    "plt.figure(figsize=(10,7))\n",
    "sns.heatmap(dataset_cancer[selected_features].corr(),annot=True,square=True,cmap=\"coolwarm\",annot_kws={'size': 14})\n",
    "plt.title(\"Selected features\",size =14)\n",
    "plt.xticks(rotation=45)\n",
    "plt.yticks(rotation=45)\n",
    "plt.show()"
   ]
  },
  {
   "cell_type": "code",
   "execution_count": 200,
   "metadata": {},
   "outputs": [],
   "source": [
    "malign = dataset_cancer[\"target\"]==1"
   ]
  },
  {
   "cell_type": "code",
   "execution_count": 276,
   "metadata": {},
   "outputs": [
    {
     "data": {
      "image/png": "[encoded data removed]",
      "text/plain": [
       "<Figure size 1152x720 with 2 Axes>"
      ]
     },
     "metadata": {},
     "output_type": "display_data"
    }
   ],
   "source": [
    "fig, axs = plt.subplots(ncols=2, nrows=1, figsize=(16, 10))\n",
    "plt.subplots_adjust(right=1.5)\n",
    "\n",
    "features = [\"mean_perimeter\",\"mean_area\"]\n",
    "for i, feature in enumerate(features):\n",
    "    \n",
    "    sns.histplot(dataset_cancer[malign][feature],color=\"#FD841F\",label=\"malignant\",ax=axs[i])\n",
    "    \n",
    "    sns.histplot(dataset_cancer[~malign][feature],color=\"#3CCF4E\",label=\"benign\",ax=axs[i])\n",
    "    \n",
    "    axs[i].legend(loc='upper right', prop={'size': 20})\n",
    "    axs[i].set_title(f\"Distribution of cancer {feature}\",size=20)\n",
    "    axs[i].tick_params(axis='x', labelsize=15)\n",
    "    axs[i].tick_params(axis=\"y\",labelsize=15)\n",
    "    axs[i].set_ylabel(\"frequency\",size=15)\n",
    "    axs[i].set_xlabel(\"boundaries\",size=15)\n",
    "    \n",
    "plt.show()"
   ]
  },
  {
   "cell_type": "markdown",
   "metadata": {},
   "source": [
    "#### Feature Engineering "
   ]
  },
  {
   "cell_type": "code",
   "execution_count": 247,
   "metadata": {},
   "outputs": [],
   "source": [
    "####### split the dataset into train and validation set: \n",
    "Train,Valid = train_test_split(dataset_cancer,test_size=0.1,random_state=101)"
   ]
  },
  {
   "cell_type": "code",
   "execution_count": 248,
   "metadata": {},
   "outputs": [],
   "source": [
    "ytrain = Train[\"target\"]\n",
    "xtrain = Train.drop([\"target\"],axis=1).reset_index(drop=True)\n",
    "#############################################################\n",
    "yvalid = Valid[\"target\"]\n",
    "xvalid = Valid.drop([\"target\"],axis=1).reset_index(drop=True)"
   ]
  },
  {
   "cell_type": "code",
   "execution_count": 249,
   "metadata": {},
   "outputs": [
    {
     "data": {
      "text/html": [
       "<div>\n",
       "<style scoped>\n",
       "    .dataframe tbody tr th:only-of-type {\n",
       "        vertical-align: middle;\n",
       "    }\n",
       "\n",
       "    .dataframe tbody tr th {\n",
       "        vertical-align: top;\n",
       "    }\n",
       "\n",
       "    .dataframe thead th {\n",
       "        text-align: right;\n",
       "    }\n",
       "</style>\n",
       "<table border=\"1\" class=\"dataframe\">\n",
       "  <thead>\n",
       "    <tr style=\"text-align: right;\">\n",
       "      <th></th>\n",
       "      <th>mean_radius</th>\n",
       "      <th>mean_texture</th>\n",
       "      <th>mean_perimeter</th>\n",
       "      <th>mean_area</th>\n",
       "      <th>mean_smoothness</th>\n",
       "      <th>mean_compactness</th>\n",
       "      <th>mean_concavity</th>\n",
       "      <th>mean_concave_points</th>\n",
       "      <th>mean_symmetry</th>\n",
       "      <th>mean_fractal_dimension</th>\n",
       "      <th>...</th>\n",
       "      <th>worst_radius</th>\n",
       "      <th>worst_texture</th>\n",
       "      <th>worst_perimeter</th>\n",
       "      <th>worst_area</th>\n",
       "      <th>worst_smoothness</th>\n",
       "      <th>worst_compactness</th>\n",
       "      <th>worst_concavity</th>\n",
       "      <th>worst_concave_points</th>\n",
       "      <th>worst_symmetry</th>\n",
       "      <th>worst_fractal_dimension</th>\n",
       "    </tr>\n",
       "  </thead>\n",
       "  <tbody>\n",
       "    <tr>\n",
       "      <th>0</th>\n",
       "      <td>20.09</td>\n",
       "      <td>23.86</td>\n",
       "      <td>134.70</td>\n",
       "      <td>1247.0</td>\n",
       "      <td>0.10800</td>\n",
       "      <td>0.18380</td>\n",
       "      <td>0.22830</td>\n",
       "      <td>0.12800</td>\n",
       "      <td>0.2249</td>\n",
       "      <td>0.07469</td>\n",
       "      <td>...</td>\n",
       "      <td>23.68</td>\n",
       "      <td>29.43</td>\n",
       "      <td>158.80</td>\n",
       "      <td>1696.0</td>\n",
       "      <td>0.1347</td>\n",
       "      <td>0.33910</td>\n",
       "      <td>0.49320</td>\n",
       "      <td>0.19230</td>\n",
       "      <td>0.3294</td>\n",
       "      <td>0.09469</td>\n",
       "    </tr>\n",
       "    <tr>\n",
       "      <th>1</th>\n",
       "      <td>12.56</td>\n",
       "      <td>19.07</td>\n",
       "      <td>81.92</td>\n",
       "      <td>485.8</td>\n",
       "      <td>0.08760</td>\n",
       "      <td>0.10380</td>\n",
       "      <td>0.10300</td>\n",
       "      <td>0.04391</td>\n",
       "      <td>0.1533</td>\n",
       "      <td>0.06184</td>\n",
       "      <td>...</td>\n",
       "      <td>13.37</td>\n",
       "      <td>22.43</td>\n",
       "      <td>89.02</td>\n",
       "      <td>547.4</td>\n",
       "      <td>0.1096</td>\n",
       "      <td>0.20020</td>\n",
       "      <td>0.23880</td>\n",
       "      <td>0.09265</td>\n",
       "      <td>0.2121</td>\n",
       "      <td>0.07188</td>\n",
       "    </tr>\n",
       "    <tr>\n",
       "      <th>2</th>\n",
       "      <td>12.72</td>\n",
       "      <td>17.67</td>\n",
       "      <td>80.98</td>\n",
       "      <td>501.3</td>\n",
       "      <td>0.07896</td>\n",
       "      <td>0.04522</td>\n",
       "      <td>0.01402</td>\n",
       "      <td>0.01835</td>\n",
       "      <td>0.1459</td>\n",
       "      <td>0.05544</td>\n",
       "      <td>...</td>\n",
       "      <td>13.82</td>\n",
       "      <td>20.96</td>\n",
       "      <td>88.87</td>\n",
       "      <td>586.8</td>\n",
       "      <td>0.1068</td>\n",
       "      <td>0.09605</td>\n",
       "      <td>0.03469</td>\n",
       "      <td>0.03612</td>\n",
       "      <td>0.2165</td>\n",
       "      <td>0.06025</td>\n",
       "    </tr>\n",
       "    <tr>\n",
       "      <th>3</th>\n",
       "      <td>14.87</td>\n",
       "      <td>16.67</td>\n",
       "      <td>98.64</td>\n",
       "      <td>682.5</td>\n",
       "      <td>0.11620</td>\n",
       "      <td>0.16490</td>\n",
       "      <td>0.16900</td>\n",
       "      <td>0.08923</td>\n",
       "      <td>0.2157</td>\n",
       "      <td>0.06768</td>\n",
       "      <td>...</td>\n",
       "      <td>18.81</td>\n",
       "      <td>27.37</td>\n",
       "      <td>127.10</td>\n",
       "      <td>1095.0</td>\n",
       "      <td>0.1878</td>\n",
       "      <td>0.44800</td>\n",
       "      <td>0.47040</td>\n",
       "      <td>0.20270</td>\n",
       "      <td>0.3585</td>\n",
       "      <td>0.10650</td>\n",
       "    </tr>\n",
       "    <tr>\n",
       "      <th>4</th>\n",
       "      <td>13.96</td>\n",
       "      <td>17.05</td>\n",
       "      <td>91.43</td>\n",
       "      <td>602.4</td>\n",
       "      <td>0.10960</td>\n",
       "      <td>0.12790</td>\n",
       "      <td>0.09789</td>\n",
       "      <td>0.05246</td>\n",
       "      <td>0.1908</td>\n",
       "      <td>0.06130</td>\n",
       "      <td>...</td>\n",
       "      <td>16.39</td>\n",
       "      <td>22.07</td>\n",
       "      <td>108.10</td>\n",
       "      <td>826.0</td>\n",
       "      <td>0.1512</td>\n",
       "      <td>0.32620</td>\n",
       "      <td>0.32090</td>\n",
       "      <td>0.13740</td>\n",
       "      <td>0.3068</td>\n",
       "      <td>0.07957</td>\n",
       "    </tr>\n",
       "  </tbody>\n",
       "</table>\n",
       "<p>5 rows × 30 columns</p>\n",
       "</div>"
      ],
      "text/plain": [
       "   mean_radius  mean_texture  mean_perimeter  mean_area  mean_smoothness  \\\n",
       "0        20.09         23.86          134.70     1247.0          0.10800   \n",
       "1        12.56         19.07           81.92      485.8          0.08760   \n",
       "2        12.72         17.67           80.98      501.3          0.07896   \n",
       "3        14.87         16.67           98.64      682.5          0.11620   \n",
       "4        13.96         17.05           91.43      602.4          0.10960   \n",
       "\n",
       "   mean_compactness  mean_concavity  mean_concave_points  mean_symmetry  \\\n",
       "0           0.18380         0.22830              0.12800         0.2249   \n",
       "1           0.10380         0.10300              0.04391         0.1533   \n",
       "2           0.04522         0.01402              0.01835         0.1459   \n",
       "3           0.16490         0.16900              0.08923         0.2157   \n",
       "4           0.12790         0.09789              0.05246         0.1908   \n",
       "\n",
       "   mean_fractal_dimension  ...  worst_radius  worst_texture  worst_perimeter  \\\n",
       "0                 0.07469  ...         23.68          29.43           158.80   \n",
       "1                 0.06184  ...         13.37          22.43            89.02   \n",
       "2                 0.05544  ...         13.82          20.96            88.87   \n",
       "3                 0.06768  ...         18.81          27.37           127.10   \n",
       "4                 0.06130  ...         16.39          22.07           108.10   \n",
       "\n",
       "   worst_area  worst_smoothness  worst_compactness  worst_concavity  \\\n",
       "0      1696.0            0.1347            0.33910          0.49320   \n",
       "1       547.4            0.1096            0.20020          0.23880   \n",
       "2       586.8            0.1068            0.09605          0.03469   \n",
       "3      1095.0            0.1878            0.44800          0.47040   \n",
       "4       826.0            0.1512            0.32620          0.32090   \n",
       "\n",
       "   worst_concave_points  worst_symmetry  worst_fractal_dimension  \n",
       "0               0.19230          0.3294                  0.09469  \n",
       "1               0.09265          0.2121                  0.07188  \n",
       "2               0.03612          0.2165                  0.06025  \n",
       "3               0.20270          0.3585                  0.10650  \n",
       "4               0.13740          0.3068                  0.07957  \n",
       "\n",
       "[5 rows x 30 columns]"
      ]
     },
     "execution_count": 249,
     "metadata": {},
     "output_type": "execute_result"
    }
   ],
   "source": [
    "xtrain.head()"
   ]
  },
  {
   "cell_type": "code",
   "execution_count": 250,
   "metadata": {},
   "outputs": [
    {
     "data": {
      "text/plain": [
       "(512, 30)"
      ]
     },
     "execution_count": 250,
     "metadata": {},
     "output_type": "execute_result"
    }
   ],
   "source": [
    "xtrain.shape"
   ]
  },
  {
   "cell_type": "code",
   "execution_count": 251,
   "metadata": {},
   "outputs": [
    {
     "data": {
      "text/plain": [
       "(57, 30)"
      ]
     },
     "execution_count": 251,
     "metadata": {},
     "output_type": "execute_result"
    }
   ],
   "source": [
    "xvalid.shape"
   ]
  },
  {
   "cell_type": "code",
   "execution_count": 253,
   "metadata": {},
   "outputs": [
    {
     "data": {
      "text/plain": [
       "StandardScaler()"
      ]
     },
     "execution_count": 253,
     "metadata": {},
     "output_type": "execute_result"
    }
   ],
   "source": [
    "##### fit the training datasets \n",
    "scaler_classification = StandardScaler()\n",
    "scaler_classification.fit(xtrain)"
   ]
  },
  {
   "cell_type": "code",
   "execution_count": 254,
   "metadata": {},
   "outputs": [],
   "source": [
    "##### transform the features of the features \n",
    "xtrain_transform = scaler_classification.transform(xtrain)\n",
    "xvalid_transform = scaler_classification.transform(xvalid)"
   ]
  },
  {
   "cell_type": "code",
   "execution_count": 255,
   "metadata": {},
   "outputs": [
    {
     "data": {
      "text/plain": [
       "LogisticRegression(random_state=1010)"
      ]
     },
     "execution_count": 255,
     "metadata": {},
     "output_type": "execute_result"
    }
   ],
   "source": [
    "### simple model formulation: \n",
    "m1 = LogisticRegression(random_state=1010)\n",
    "m1.fit(xtrain_transform,ytrain)"
   ]
  },
  {
   "cell_type": "code",
   "execution_count": 261,
   "metadata": {},
   "outputs": [
    {
     "data": {
      "text/plain": [
       "0.986328125"
      ]
     },
     "execution_count": 261,
     "metadata": {},
     "output_type": "execute_result"
    }
   ],
   "source": [
    "##### check the score on the training set:\n",
    "m1.score(xtrain_transform,ytrain)"
   ]
  },
  {
   "cell_type": "code",
   "execution_count": 259,
   "metadata": {},
   "outputs": [
    {
     "data": {
      "text/plain": [
       "1.0"
      ]
     },
     "execution_count": 259,
     "metadata": {},
     "output_type": "execute_result"
    }
   ],
   "source": [
    "##### performance on the validation set: \n",
    "accuracy_score(m1.predict(xvalid_transform),yvalid)"
   ]
  },
  {
   "cell_type": "code",
   "execution_count": 263,
   "metadata": {},
   "outputs": [],
   "source": [
    "##### formulate all models:\n",
    "logistic = LogisticRegression(random_state=1010)\n",
    "svmClass = SVC()\n",
    "decision_tree = DecisionTreeClassifier(random_state=1010)\n",
    "naive_bayes = BernoulliNB()\n",
    "forest = RandomForestClassifier(random_state=1010)\n",
    "gradient = GradientBoostingClassifier(random_state=1010)"
   ]
  },
  {
   "cell_type": "code",
   "execution_count": 265,
   "metadata": {},
   "outputs": [
    {
     "name": "stdout",
     "output_type": "stream",
     "text": [
      "Done with : LogisticRegression\n",
      "Done with : SVC\n",
      "Done with : DecisionTreeClassifier\n",
      "Done with : BernoulliNB\n",
      "Done with : RandomForestClassifier\n",
      "Done with : GradientBoostingClassifier\n"
     ]
    }
   ],
   "source": [
    "almagam = [logistic,svmClass,decision_tree,naive_bayes,forest,gradient]\n",
    "\n",
    "results_acc = {}\n",
    "for model in almagam:\n",
    "    \n",
    "    ##### fit the model\n",
    "    \n",
    "    model.fit(xtrain_transform,ytrain)\n",
    "    \n",
    "    score = model.score(xtrain_transform,ytrain)\n",
    "    if model not in results_acc:\n",
    "        results_acc[model.__class__.__name__] = [score]\n",
    "    \n",
    "    predicts = model.predict(xvalid_transform)\n",
    "    evaluation = accuracy_score(predicts,yvalid)\n",
    "    \n",
    "    results_acc[model.__class__.__name__].append(evaluation)\n",
    "    \n",
    "    print(\"Done with :\",model.__class__.__name__)"
   ]
  },
  {
   "cell_type": "code",
   "execution_count": 268,
   "metadata": {},
   "outputs": [
    {
     "data": {
      "text/plain": [
       "{'LogisticRegression': [0.986328125, 1.0],\n",
       " 'SVC': [0.986328125, 1.0],\n",
       " 'DecisionTreeClassifier': [1.0, 0.9649122807017544],\n",
       " 'BernoulliNB': [0.9375, 0.9473684210526315],\n",
       " 'RandomForestClassifier': [1.0, 0.9649122807017544],\n",
       " 'GradientBoostingClassifier': [1.0, 0.9649122807017544]}"
      ]
     },
     "execution_count": 268,
     "metadata": {},
     "output_type": "execute_result"
    }
   ],
   "source": [
    "results_acc"
   ]
  },
  {
   "cell_type": "code",
   "execution_count": 269,
   "metadata": {},
   "outputs": [
    {
     "data": {
      "text/html": [
       "<div>\n",
       "<style scoped>\n",
       "    .dataframe tbody tr th:only-of-type {\n",
       "        vertical-align: middle;\n",
       "    }\n",
       "\n",
       "    .dataframe tbody tr th {\n",
       "        vertical-align: top;\n",
       "    }\n",
       "\n",
       "    .dataframe thead th {\n",
       "        text-align: right;\n",
       "    }\n",
       "</style>\n",
       "<table border=\"1\" class=\"dataframe\">\n",
       "  <thead>\n",
       "    <tr style=\"text-align: right;\">\n",
       "      <th></th>\n",
       "      <th>LogisticRegression</th>\n",
       "      <th>SVC</th>\n",
       "      <th>DecisionTreeClassifier</th>\n",
       "      <th>BernoulliNB</th>\n",
       "      <th>RandomForestClassifier</th>\n",
       "      <th>GradientBoostingClassifier</th>\n",
       "    </tr>\n",
       "  </thead>\n",
       "  <tbody>\n",
       "    <tr>\n",
       "      <th>Train accuracy</th>\n",
       "      <td>0.986328</td>\n",
       "      <td>0.986328</td>\n",
       "      <td>1.000000</td>\n",
       "      <td>0.937500</td>\n",
       "      <td>1.000000</td>\n",
       "      <td>1.000000</td>\n",
       "    </tr>\n",
       "    <tr>\n",
       "      <th>Validation accuracy</th>\n",
       "      <td>1.000000</td>\n",
       "      <td>1.000000</td>\n",
       "      <td>0.964912</td>\n",
       "      <td>0.947368</td>\n",
       "      <td>0.964912</td>\n",
       "      <td>0.964912</td>\n",
       "    </tr>\n",
       "  </tbody>\n",
       "</table>\n",
       "</div>"
      ],
      "text/plain": [
       "                     LogisticRegression       SVC  DecisionTreeClassifier  \\\n",
       "Train accuracy                 0.986328  0.986328                1.000000   \n",
       "Validation accuracy            1.000000  1.000000                0.964912   \n",
       "\n",
       "                     BernoulliNB  RandomForestClassifier  \\\n",
       "Train accuracy          0.937500                1.000000   \n",
       "Validation accuracy     0.947368                0.964912   \n",
       "\n",
       "                     GradientBoostingClassifier  \n",
       "Train accuracy                         1.000000  \n",
       "Validation accuracy                    0.964912  "
      ]
     },
     "execution_count": 269,
     "metadata": {},
     "output_type": "execute_result"
    }
   ],
   "source": [
    "pd.DataFrame(results_acc,index=[\"Train accuracy\",\"Validation accuracy\"])"
   ]
  },
  {
   "cell_type": "code",
   "execution_count": 279,
   "metadata": {},
   "outputs": [],
   "source": [
    "#### extract the features \n",
    "train_score = []\n",
    "valid_score = []\n",
    "for t,v in results_acc.values():\n",
    "    train_score.append(t)\n",
    "    valid_score.append(v)"
   ]
  },
  {
   "cell_type": "code",
   "execution_count": 281,
   "metadata": {},
   "outputs": [
    {
     "data": {
      "text/plain": [
       "([0.986328125, 0.986328125, 1.0, 0.9375, 1.0, 1.0],\n",
       " [1.0,\n",
       "  1.0,\n",
       "  0.9649122807017544,\n",
       "  0.9473684210526315,\n",
       "  0.9649122807017544,\n",
       "  0.9649122807017544])"
      ]
     },
     "execution_count": 281,
     "metadata": {},
     "output_type": "execute_result"
    }
   ],
   "source": [
    "train_score,valid_score"
   ]
  },
  {
   "cell_type": "code",
   "execution_count": 295,
   "metadata": {},
   "outputs": [
    {
     "data": {
      "image/png": "[encoded data removed]",
      "text/plain": [
       "<Figure size 864x576 with 1 Axes>"
      ]
     },
     "metadata": {},
     "output_type": "display_data"
    }
   ],
   "source": [
    "# set width of bar\n",
    "with plt.style.context(\"ggplot\"):\n",
    "    barWidth = 0.25\n",
    "    fig = plt.subplots(figsize =(12, 8))\n",
    "\n",
    "    # set height of bar\n",
    "    tt = train_score\n",
    "    vv = valid_score\n",
    "\n",
    "\n",
    "    # Set position of bar on X axis\n",
    "    br1 = np.arange(len(tt))\n",
    "    br2 = [x + barWidth for x in br1]\n",
    "\n",
    "    # Make the plot\n",
    "    plt.bar(br1, tt, color ='orange', width = barWidth,\n",
    "            edgecolor ='orange', label ='train score')\n",
    "    plt.bar(br2, vv, color ='blue', width = barWidth,\n",
    "            edgecolor ='black', label ='validarion score')\n",
    "\n",
    "    # Adding Xticks\n",
    "    plt.xlabel('acc score', fontweight ='bold', fontsize = 15)\n",
    "    plt.ylabel('accuracy', fontweight ='bold', fontsize = 15)\n",
    "    plt.xticks([r + barWidth for r in range(len(tt))],\n",
    "            list(results_acc.keys()),rotation=90)\n",
    "    plt.title(\"Accuracy comparison\")\n",
    "\n",
    "\n",
    "    plt.legend()\n",
    "    plt.show()"
   ]
  },
  {
   "cell_type": "markdown",
   "metadata": {},
   "source": [
    "#### Bonus work:"
   ]
  },
  {
   "cell_type": "code",
   "execution_count": 302,
   "metadata": {},
   "outputs": [],
   "source": [
    "import torch \n",
    "from torch.utils.data import TensorDataset, DataLoader"
   ]
  },
  {
   "cell_type": "code",
   "execution_count": 303,
   "metadata": {},
   "outputs": [],
   "source": [
    "##### implement the simple neural network \n",
    "xdata_train = list(xtrain_transform)\n",
    "ydata_train = list(ytrain)\n",
    "\n",
    "###### convert to tensors \n",
    "tensor_x = torch.Tensor(xdata_train)\n",
    "tensor_y = torch.Tensor(ydata_train)"
   ]
  },
  {
   "cell_type": "code",
   "execution_count": 305,
   "metadata": {},
   "outputs": [],
   "source": [
    "dataset_tensor = TensorDataset(tensor_x,tensor_y)\n",
    "dataloader_train = DataLoader(dataset_tensor,batch_size=16)"
   ]
  },
  {
   "cell_type": "code",
   "execution_count": 307,
   "metadata": {},
   "outputs": [
    {
     "data": {
      "text/plain": [
       "[tensor([[ 1.6668e+00,  1.0846e+00,  1.7350e+00,  1.6516e+00,  8.4621e-01,\n",
       "           1.5122e+00,  1.7607e+00,  2.0512e+00,  1.5768e+00,  1.6517e+00,\n",
       "           2.3552e+00,  9.6507e-01,  2.3860e+00,  1.9161e+00,  3.0109e-01,\n",
       "           1.1884e+00,  1.4227e+00,  1.1990e+00,  8.2208e-01,  7.6809e-01,\n",
       "           1.5149e+00,  6.2143e-01,  1.5178e+00,  1.4090e+00,  1.1884e-01,\n",
       "           5.5093e-01,  1.0725e+00,  1.1925e+00,  6.2039e-01,  5.8455e-01],\n",
       "         [-4.4404e-01, -4.1418e-02, -4.1410e-01, -4.8027e-01, -6.2146e-01,\n",
       "          -1.8721e-02,  1.7921e-01, -1.2925e-01, -1.0273e+00, -1.4768e-01,\n",
       "          -1.6052e-01,  4.8157e-01,  1.6544e-01, -2.7955e-01,  9.1120e-01,\n",
       "           9.1490e-01,  9.7947e-01,  1.2470e+00,  7.0607e-01,  1.3446e-01,\n",
       "          -5.9766e-01, -5.2710e-01, -5.4246e-01, -5.8340e-01, -1.0078e+00,\n",
       "          -3.5552e-01, -1.5954e-01, -3.3786e-01, -1.2418e+00, -6.8323e-01],\n",
       "         [-3.9919e-01, -3.7052e-01, -4.5238e-01, -4.3686e-01, -1.2431e+00,\n",
       "          -1.1397e+00, -9.4389e-01, -7.9202e-01, -1.2965e+00, -1.0439e+00,\n",
       "          -3.8954e-01, -6.0292e-01, -3.6792e-01, -3.6987e-01,  9.8576e-02,\n",
       "          -7.6988e-01, -8.6445e-01, -9.9868e-01, -1.2997e-01, -9.7797e-01,\n",
       "          -5.0546e-01, -7.6829e-01, -5.4689e-01, -5.1506e-01, -1.1335e+00,\n",
       "          -1.0352e+00, -1.1480e+00, -1.2060e+00, -1.1720e+00, -1.3296e+00],\n",
       "         [ 2.0351e-01, -6.0560e-01,  2.6669e-01,  7.0611e-02,  1.4362e+00,\n",
       "           1.1505e+00,  1.0123e+00,  1.0459e+00,  1.2422e+00,  6.7009e-01,\n",
       "           7.4161e-02, -4.8378e-01,  5.7610e-02,  1.1407e-02, -1.5114e-02,\n",
       "          -5.3757e-03, -6.9108e-02,  1.3512e-01, -5.3423e-01,  1.6415e-02,\n",
       "           5.1701e-01,  2.8344e-01,  5.8184e-01,  3.6647e-01,  2.5024e+00,\n",
       "           1.2616e+00,  9.6207e-01,  1.3523e+00,  1.0824e+00,  1.2410e+00],\n",
       "         [-5.1589e-02, -5.1627e-01, -2.6884e-02, -1.5372e-01,  9.6132e-01,\n",
       "           4.4247e-01,  1.1471e-01,  9.2447e-02,  3.3658e-01, -2.2330e-01,\n",
       "           6.8506e-02, -7.3757e-01, -1.4839e-01, -1.0421e-01, -2.1989e-01,\n",
       "           5.8471e-02, -3.4370e-02,  2.4870e-01,  1.5951e-02, -4.2084e-01,\n",
       "           2.1146e-02, -5.8617e-01,  2.0869e-02, -1.0014e-01,  8.5949e-01,\n",
       "           4.6675e-01,  2.3806e-01,  3.4940e-01,  2.6160e-01, -2.5582e-01],\n",
       "         [-5.4216e-01, -2.8825e-01, -5.6109e-01, -5.5700e-01, -2.8260e-01,\n",
       "          -6.3205e-01, -5.6650e-01, -7.4224e-01, -4.3812e-01, -5.2296e-01,\n",
       "          -5.4046e-01, -7.9449e-01, -4.8156e-01, -4.6912e-01, -3.8719e-01,\n",
       "          -6.5210e-01, -3.9430e-01, -7.6447e-01, -1.3236e-01, -6.9113e-01,\n",
       "          -4.0915e-01, -2.6294e-01, -3.9986e-01, -4.4949e-01,  2.1311e-01,\n",
       "          -2.4588e-01, -1.4743e-01, -4.0482e-01,  4.9974e-01, -5.2650e-01],\n",
       "         [-7.5240e-01, -2.5534e-01, -7.5328e-01, -7.1188e-01, -5.5455e-01,\n",
       "          -5.3273e-01, -6.9877e-01, -8.7837e-01, -1.4710e+00, -6.5064e-02,\n",
       "          -2.7503e-01, -2.8290e-01, -1.9094e-01, -3.7646e-01, -1.2267e-01,\n",
       "           4.3610e-02, -3.2321e-01, -6.4928e-01, -1.8498e-01, -1.5753e-01,\n",
       "          -7.3905e-01, -6.6164e-01, -7.2935e-01, -6.8331e-01, -7.9238e-01,\n",
       "          -4.9452e-01, -7.2228e-01, -9.1469e-01, -1.1037e+00, -4.3312e-01],\n",
       "         [ 1.5154e+00,  2.2388e+00,  1.6902e+00,  1.5395e+00, -2.6174e-01,\n",
       "           1.9428e+00,  1.1309e+00,  1.6985e+00,  2.8202e-01, -8.0467e-02,\n",
       "           1.5444e+00, -2.7466e-02,  2.0736e+00,  1.3975e+00, -2.1827e-01,\n",
       "           1.2066e+00,  2.0494e-01,  5.3187e-01, -1.3475e-01,  5.1949e-01,\n",
       "           1.7956e+00,  1.7437e+00,  2.1024e+00,  1.8079e+00, -1.7742e-01,\n",
       "           1.8157e+00,  7.4269e-01,  1.2202e+00, -1.3529e-01,  9.0747e-01],\n",
       "         [-4.2722e-01,  1.1105e+00, -4.3731e-01, -4.5058e-01, -1.2380e+00,\n",
       "          -5.6431e-01, -4.3447e-01, -7.3990e-01, -1.0964e+00, -3.7873e-01,\n",
       "          -5.6802e-01, -2.7013e-01, -6.8901e-01, -4.7040e-01, -6.0165e-01,\n",
       "          -1.5343e-01, -6.7500e-02, -5.0785e-01, -8.1769e-01, -1.5900e-01,\n",
       "          -4.2759e-01,  9.2990e-01, -4.9375e-01, -4.5053e-01, -4.1981e-01,\n",
       "           5.9204e-01,  5.7803e-01,  5.1460e-02, -1.2259e-01,  6.4902e-01],\n",
       "         [-5.3655e-01,  7.3769e-02, -5.5173e-01, -5.4972e-01, -2.7198e-02,\n",
       "          -4.5753e-01, -5.9237e-01, -2.0289e-01,  5.9481e-01, -3.8713e-01,\n",
       "          -1.8455e-01,  2.0425e-01, -2.7170e-01, -2.8486e-01,  1.5574e-01,\n",
       "          -4.3689e-01, -5.8696e-01, -7.4460e-02, -6.5264e-01, -1.8438e-01,\n",
       "          -3.7842e-01,  4.4587e-01, -4.5005e-01, -4.2555e-01,  4.8693e-01,\n",
       "          -3.2941e-01, -6.4916e-01, -1.0212e-01, -3.7342e-01, -1.3521e-01],\n",
       "         [ 1.0781e+00, -2.0842e+00,  1.2504e+00,  9.6260e-01,  1.5944e+00,\n",
       "           3.3072e+00,  2.6670e+00,  2.5464e+00,  2.1951e+00,  2.2146e+00,\n",
       "           2.4365e+00, -5.6333e-01,  2.7656e+00,  2.3964e+00, -2.0438e-01,\n",
       "           1.2831e+00,  6.9063e-01,  6.4066e-01,  1.1414e+00,  8.6554e-01,\n",
       "           1.8632e+00, -1.3639e+00,  2.2795e+00,  1.9692e+00,  1.3533e+00,\n",
       "           2.6816e+00,  2.1316e+00,  2.3152e+00,  2.6953e+00,  1.9301e+00],\n",
       "         [ 1.7229e+00, -1.1533e+00,  1.7512e+00,  1.7916e+00,  2.9223e-01,\n",
       "           5.3624e-01,  1.3783e+00,  1.4367e+00, -2.3492e-02, -5.6917e-01,\n",
       "           1.2426e+00, -7.8957e-01,  1.2419e+00,  1.1433e+00,  1.4399e+00,\n",
       "          -6.1517e-02,  7.9195e-01,  1.1174e+00, -3.5004e-01,  4.6911e-01,\n",
       "           1.2813e+00, -1.4722e+00,  1.3229e+00,  1.1991e+00,  2.4004e-01,\n",
       "          -3.2419e-01,  6.2113e-01,  7.3488e-01, -8.5604e-01, -4.1089e-01],\n",
       "         [-2.3660e-01,  5.4627e-01, -2.7892e-01, -3.1139e-01, -7.4952e-01,\n",
       "          -7.8553e-01, -6.9877e-01, -6.3929e-01, -1.6693e-03, -8.3102e-01,\n",
       "          -5.0723e-01,  5.9287e-01, -4.0709e-01, -4.1790e-01, -4.9539e-01,\n",
       "          -2.9048e-01, -4.6023e-01, -8.7453e-01, -2.6273e-01, -6.9260e-01,\n",
       "          -4.2759e-01,  5.8369e-01, -4.2673e-01, -4.5539e-01, -8.1034e-01,\n",
       "          -5.7414e-01, -7.2906e-01, -8.9856e-01, -4.2263e-01, -9.7781e-01],\n",
       "         [ 1.4734e+00, -2.5064e-01,  1.4296e+00,  1.3659e+00,  5.3685e-01,\n",
       "           7.5440e-01,  9.3147e-01,  1.1862e+00,  2.8202e-01, -5.5657e-01,\n",
       "           2.3073e-01, -3.9948e-01,  1.6023e-02,  2.6602e-01, -4.4501e-01,\n",
       "          -2.0572e-01, -5.3669e-02,  4.9988e-01, -5.0911e-01, -6.8929e-01,\n",
       "           1.5374e+00,  4.9345e-01,  1.3288e+00,  1.2910e+00,  8.8643e-01,\n",
       "           7.8456e-01,  7.7416e-01,  1.6978e+00,  1.0903e+00, -3.5031e-01],\n",
       "         [-1.8054e-01, -1.5365e+00, -2.6060e-01, -2.5510e-01, -1.6172e+00,\n",
       "          -1.3135e+00, -1.0860e+00, -1.1532e+00, -1.6383e+00, -1.3365e+00,\n",
       "          -6.4048e-01, -9.6271e-01, -6.5806e-01, -4.3044e-01, -1.1930e+00,\n",
       "          -1.2099e+00, -9.7230e-01, -1.3796e+00, -6.8015e-01, -8.3602e-01,\n",
       "          -2.6982e-01, -1.4279e+00, -3.5173e-01, -3.2096e-01, -1.8773e+00,\n",
       "          -1.2812e+00, -1.2492e+00, -1.4213e+00, -1.0100e+00, -1.2368e+00],\n",
       "         [-3.7396e-01, -1.4542e+00, -4.3976e-01, -4.1585e-01, -6.3657e-01,\n",
       "          -1.2829e+00, -1.0048e+00, -9.2297e-01, -1.2710e+00, -2.1910e-01,\n",
       "          -4.1251e-01, -4.0897e-01, -5.2798e-01, -4.0069e-01,  4.8519e-01,\n",
       "          -1.0658e+00, -8.3881e-01, -7.1311e-01, -1.1765e+00, -1.7959e-01,\n",
       "          -5.4439e-01, -1.5575e+00, -6.1096e-01, -5.4298e-01, -7.1158e-01,\n",
       "          -1.3067e+00, -1.1825e+00, -1.1480e+00, -1.7784e+00, -6.1042e-01]]),\n",
       " tensor([0., 1., 1., 0., 0., 1., 1., 0., 1., 1., 0., 0., 1., 0., 1., 1.])]"
      ]
     },
     "execution_count": 307,
     "metadata": {},
     "output_type": "execute_result"
    }
   ],
   "source": [
    "iter(dataloader_train).next()"
   ]
  },
  {
   "cell_type": "code",
   "execution_count": null,
   "metadata": {},
   "outputs": [],
   "source": []
  },
  {
   "cell_type": "markdown",
   "metadata": {},
   "source": [
    "### Personal task "
   ]
  },
  {
   "cell_type": "code",
   "execution_count": null,
   "metadata": {},
   "outputs": [],
   "source": []
  },
  {
   "cell_type": "markdown",
   "metadata": {},
   "source": [
    "#### Reference:\n",
    "\n",
    "- [Cornell](https://www.cs.cornell.edu/courses/cs4780/2018fa/lectures/lecturenote01_MLsetup.html) CS class \n",
    "- Pattern Recognition by Chris Bishop \n",
    "- Sklearn\n",
    "- Pytorch"
   ]
  },
  {
   "cell_type": "code",
   "execution_count": null,
   "metadata": {},
   "outputs": [],
   "source": []
  }
 ],
 "metadata": {
  "kernelspec": {
   "display_name": "Python 3 (ipykernel)",
   "language": "python",
   "name": "python3"
  },
  "language_info": {
   "codemirror_mode": {
    "name": "ipython",
    "version": 3
   },
   "file_extension": ".py",
   "mimetype": "text/x-python",
   "name": "python",
   "nbconvert_exporter": "python",
   "pygments_lexer": "ipython3",
   "version": "3.7.6"
  }
 },
 "nbformat": 4,
 "nbformat_minor": 4
}
